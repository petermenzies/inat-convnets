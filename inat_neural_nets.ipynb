{
 "cells": [
  {
   "cell_type": "code",
   "execution_count": 44,
   "id": "a2d6d501-e9a1-450a-81c1-e11a5d48a9b0",
   "metadata": {
    "tags": []
   },
   "outputs": [
    {
     "data": {
      "text/plain": [
       "'2.6.0'"
      ]
     },
     "execution_count": 44,
     "metadata": {},
     "output_type": "execute_result"
    }
   ],
   "source": [
    "import keras\n",
    "import tensorflow as tf\n",
    "import random\n",
    "import shutil\n",
    "import os\n",
    "import re\n",
    "keras.__version__"
   ]
  },
  {
   "cell_type": "markdown",
   "id": "1dd422ce-1ae9-4792-93bf-1070a05029c3",
   "metadata": {
    "jp-MarkdownHeadingCollapsed": true,
    "tags": []
   },
   "source": [
    "## Selecting species subset"
   ]
  },
  {
   "cell_type": "code",
   "execution_count": 45,
   "id": "6d4714e5-11fc-4254-9d54-e05488faa9ea",
   "metadata": {},
   "outputs": [],
   "source": [
    "dir_train_mini = \"/courses/EDS232/inaturalist-2021/train_mini\""
   ]
  },
  {
   "cell_type": "code",
   "execution_count": 46,
   "id": "ff8c9f8c-1574-4607-96c7-d7da171a01ce",
   "metadata": {},
   "outputs": [
    {
     "data": {
      "text/plain": [
       "10000"
      ]
     },
     "execution_count": 46,
     "metadata": {},
     "output_type": "execute_result"
    }
   ],
   "source": [
    "dirs_spp = os.listdir(dir_train_mini)\n",
    "n_spp = len(dirs_spp)\n",
    "n_spp"
   ]
  },
  {
   "cell_type": "code",
   "execution_count": 47,
   "id": "f1fd397f-52c6-4527-a49c-61926bcb8123",
   "metadata": {},
   "outputs": [],
   "source": [
    "seed_value = 71993"
   ]
  },
  {
   "cell_type": "code",
   "execution_count": 48,
   "id": "bd3985d7-9f1c-4b9e-9586-665edfe35419",
   "metadata": {},
   "outputs": [
    {
     "data": {
      "text/plain": [
       "[6265, 8377, 9422, 2010, 7951, 3269, 4966, 3475, 9868, 6903]"
      ]
     },
     "execution_count": 48,
     "metadata": {},
     "output_type": "execute_result"
    }
   ],
   "source": [
    "random.seed(seed_value)\n",
    "i10 = random.sample(range(1, n_spp), 10)\n",
    "i10"
   ]
  },
  {
   "cell_type": "code",
   "execution_count": 49,
   "id": "467660e6-dd74-4446-9a34-035a81dfa26a",
   "metadata": {},
   "outputs": [
    {
     "name": "stdout",
     "output_type": "stream",
     "text": [
      "02163_Animalia_Arthropoda_Insecta_Lepidoptera_Saturniidae_Hyalophora_columbia\n",
      "09827_Plantae_Tracheophyta_Pinopsida_Pinales_Pinaceae_Pinus_monophylla\n",
      "00004_Animalia_Arthropoda_Arachnida_Araneae_Agelenidae_Eratigena_duellica\n",
      "03353_Animalia_Chordata_Aves_Charadriiformes_Charadriidae_Charadrius_leschenaultii\n",
      "00283_Animalia_Arthropoda_Insecta_Coleoptera_Chrysomelidae_Disonycha_glabrata\n",
      "09526_Plantae_Tracheophyta_Magnoliopsida_Santalales_Santalaceae_Phoradendron_leucarpum\n",
      "06969_Plantae_Tracheophyta_Magnoliopsida_Asterales_Asteraceae_Senecio_ampullaceus\n",
      "04410_Animalia_Chordata_Aves_Pelecaniformes_Threskiornithidae_Theristicus_caudatus\n",
      "03042_Animalia_Chordata_Amphibia_Anura_Ranidae_Rana_cascadae\n",
      "04087_Animalia_Chordata_Aves_Passeriformes_Parulidae_Setophaga_townsendi\n"
     ]
    }
   ],
   "source": [
    "for i in range(0, len(i10)):\n",
    "    print(os.path.basename(dirs_spp[i10[i]]))"
   ]
  },
  {
   "cell_type": "code",
   "execution_count": 50,
   "id": "e404269a-ea60-48e0-ba81-a9ea5d13765c",
   "metadata": {},
   "outputs": [],
   "source": [
    "i2 = i10[0:2]"
   ]
  },
  {
   "cell_type": "code",
   "execution_count": 51,
   "id": "dc78f2ce-9de8-4722-b0ce-368cb9cf066c",
   "metadata": {},
   "outputs": [
    {
     "name": "stdout",
     "output_type": "stream",
     "text": [
      "02163_Animalia_Arthropoda_Insecta_Lepidoptera_Saturniidae_Hyalophora_columbia\n",
      "09827_Plantae_Tracheophyta_Pinopsida_Pinales_Pinaceae_Pinus_monophylla\n"
     ]
    }
   ],
   "source": [
    "for i in range(0, len(i2)):\n",
    "    print(os.path.basename(dirs_spp[i2[i]]))"
   ]
  },
  {
   "cell_type": "markdown",
   "id": "380253fe-4bf2-4fee-9b22-d60569dd4bf2",
   "metadata": {
    "jp-MarkdownHeadingCollapsed": true,
    "tags": []
   },
   "source": [
    "## Building file structure"
   ]
  },
  {
   "cell_type": "code",
   "execution_count": 52,
   "id": "9d2ab4be-6795-4f04-9f87-9b10b990c000",
   "metadata": {},
   "outputs": [],
   "source": [
    "original_dataset_dir = dir_train_mini\n",
    "\n",
    "# The directory where we stored our smaller dataset\n",
    "base_dir = \"/Users/petermenzies/eds232-ml/inat-neural-nets/inat_subset\"\n",
    "\n",
    "if not os.path.exists(base_dir):\n",
    "    os.mkdir(base_dir)"
   ]
  },
  {
   "cell_type": "code",
   "execution_count": 53,
   "id": "80b02a36-633a-4980-a95d-380e9c60389c",
   "metadata": {},
   "outputs": [],
   "source": [
    "spp_names = []\n",
    "\n",
    "# parsing out genus and species for directory names\n",
    "for i in range(0, len(i10)):\n",
    "    full_name = os.path.basename(dirs_spp[i10[i]]).lower()\n",
    "    name_split = full_name.split('_')\n",
    "    name = name_split[-2] + '_' + name_split[-1]\n",
    "    spp_names.append(name)"
   ]
  },
  {
   "cell_type": "code",
   "execution_count": 54,
   "id": "a5bcff0a-7702-48b2-83fc-aadbf9cce86e",
   "metadata": {},
   "outputs": [],
   "source": [
    "train_dir = os.path.join(base_dir, 'train')\n",
    "validation_dir = os.path.join(base_dir, 'validation')\n",
    "test_dir = os.path.join(base_dir, 'test')\n",
    "\n",
    "train_dir_names = []\n",
    "test_dir_names = []\n",
    "validation_dir_names = []\n",
    "\n",
    "for i in range(0, len(i10)):\n",
    "    locals()['train_' + spp_names[i] + '_dir'] = os.path.join(train_dir, spp_names[i])\n",
    "    locals()['validation_' + spp_names[i] + '_dir'] = os.path.join(validation_dir, spp_names[i])\n",
    "    locals()['test_' + spp_names[i] + '_dir'] = os.path.join(test_dir, spp_names[i])\n",
    "    \n",
    "    train_dir_names.extend(['train_' + spp_names[i] + '_dir'])\n",
    "    validation_dir_names.extend(['validation_' + spp_names[i] + '_dir'])\n",
    "    test_dir_names.extend(['test_' + spp_names[i] + '_dir'])"
   ]
  },
  {
   "cell_type": "code",
   "execution_count": 55,
   "id": "84c15287-b818-465b-b9cc-77bd51f5ea69",
   "metadata": {},
   "outputs": [],
   "source": [
    "# Creating directories\n",
    "\n",
    "if not os.path.exists('inat_subset/train'):\n",
    "\n",
    "    os.mkdir(train_dir)\n",
    "    os.mkdir(validation_dir)\n",
    "    os.mkdir(test_dir)\n",
    "\n",
    "    for i in train_dir_names:\n",
    "        os.mkdir(locals()[i])\n",
    "\n",
    "    for i in validation_dir_names:\n",
    "        os.mkdir(locals()[i])\n",
    "\n",
    "    for i in test_dir_names:\n",
    "        os.mkdir(locals()[i])"
   ]
  },
  {
   "cell_type": "markdown",
   "id": "05ecd942-e792-45cc-9cab-4aa33f79396f",
   "metadata": {
    "jp-MarkdownHeadingCollapsed": true,
    "tags": []
   },
   "source": [
    "## Copying over image files into new structure"
   ]
  },
  {
   "cell_type": "code",
   "execution_count": 56,
   "id": "84078492-8056-4c89-8590-9a23d8d59f59",
   "metadata": {},
   "outputs": [],
   "source": [
    "# Copying subset of images from source directory to new structured directories\n",
    "\n",
    "if len(os.listdir('inat_subset/train/charadrius_leschenaultii')) == 0:\n",
    "    \n",
    "    # Copying training images\n",
    "    for i in range(0, len(i10)):\n",
    "        path = os.path.join(original_dataset_dir, dirs_spp[i10[i]])\n",
    "        fnames = os.listdir(path)[0:30]\n",
    "\n",
    "        for fname in fnames:\n",
    "            src = os.path.join(original_dataset_dir, path, fname)\n",
    "            dst = os.path.join(locals()[train_dir_names[i]], fname)\n",
    "            shutil.copyfile(src, dst)\n",
    "\n",
    "    # Copying validation images\n",
    "    for i in range(0, len(i10)):\n",
    "        path = os.path.join(original_dataset_dir, dirs_spp[i10[i]])\n",
    "        fnames = os.listdir(path)[30:40]\n",
    "\n",
    "        for fname in fnames:\n",
    "            src = os.path.join(original_dataset_dir, path, fname)\n",
    "            dst = os.path.join(locals()[validation_dir_names[i]], fname)\n",
    "            shutil.copyfile(src, dst)\n",
    "\n",
    "    # Copying test images\n",
    "    for i in range(0, len(i10)):\n",
    "        path = os.path.join(original_dataset_dir, dirs_spp[i10[i]])\n",
    "        fnames = os.listdir(path)[40:50]\n",
    "\n",
    "        for fname in fnames:\n",
    "            src = os.path.join(original_dataset_dir, path, fname)\n",
    "            dst = os.path.join(locals()[test_dir_names[i]], fname)\n",
    "            shutil.copyfile(src, dst)"
   ]
  },
  {
   "cell_type": "markdown",
   "id": "348a5907-1c90-4d8f-84af-41bda46c6b5e",
   "metadata": {
    "tags": []
   },
   "source": [
    "# Binary classification"
   ]
  },
  {
   "cell_type": "markdown",
   "id": "ab38a5d7-8921-4ffd-94ab-b26ce430a1b1",
   "metadata": {
    "tags": []
   },
   "source": [
    "## Artificial neural net for binary species classification"
   ]
  },
  {
   "cell_type": "markdown",
   "id": "389cf69a-dc61-49f9-b168-6499f7475b93",
   "metadata": {},
   "source": [
    "#### Data pre-processing"
   ]
  },
  {
   "cell_type": "markdown",
   "id": "d7865a99-32df-4d85-a67c-d230a44f0ff6",
   "metadata": {},
   "source": [
    "Here we use image data generators in order to conveniently produce labeled samples of training, validation, and test images based on the file structure we created previously."
   ]
  },
  {
   "cell_type": "code",
   "execution_count": 57,
   "id": "0968bc9c-ac9e-4a69-bd18-454d60aa7686",
   "metadata": {},
   "outputs": [
    {
     "name": "stdout",
     "output_type": "stream",
     "text": [
      "Found 60 images belonging to 2 classes.\n",
      "Found 20 images belonging to 2 classes.\n",
      "Found 20 images belonging to 2 classes.\n"
     ]
    }
   ],
   "source": [
    "from keras import models\n",
    "from keras import layers\n",
    "from keras.preprocessing.image import ImageDataGenerator\n",
    "\n",
    "train_dir = 'inat_subset/binary/train'\n",
    "validation_dir = 'inat_subset/binary/validation'\n",
    "test_dir = 'inat_subset/binary/test'\n",
    "\n",
    "# All images will be rescaled by 1./255\n",
    "train_datagen = ImageDataGenerator(rescale=1./255)\n",
    "validation_datagen = ImageDataGenerator(rescale=1./255)\n",
    "test_datagen = ImageDataGenerator(rescale=1./255)\n",
    "\n",
    "train_generator = train_datagen.flow_from_directory(\n",
    "        # This is the target directory\n",
    "        train_dir,\n",
    "        # All images will be resized to 150x150\n",
    "        target_size=(150, 150),\n",
    "        batch_size=10,\n",
    "        # Since we use binary_crossentropy loss, we need binary labels\n",
    "        class_mode='binary')\n",
    "\n",
    "validation_generator = validation_datagen.flow_from_directory(\n",
    "        validation_dir,\n",
    "        target_size=(150, 150),\n",
    "        batch_size=10,\n",
    "        class_mode='binary')\n",
    "\n",
    "test_generator = test_datagen.flow_from_directory(\n",
    "        test_dir,\n",
    "        target_size=(150, 150),\n",
    "        batch_size=20,\n",
    "        class_mode='binary')"
   ]
  },
  {
   "cell_type": "markdown",
   "id": "3cc814b1-8d7e-4c51-8862-1d41eb73fe55",
   "metadata": {},
   "source": [
    "#### Checking batch shapes"
   ]
  },
  {
   "cell_type": "code",
   "execution_count": 58,
   "id": "6d2c2f35-352c-4b2a-bc99-ac1b0cbd6b78",
   "metadata": {},
   "outputs": [
    {
     "name": "stdout",
     "output_type": "stream",
     "text": [
      "data batch shape: (10, 150, 150, 3)\n",
      "labels batch shape: (10,)\n"
     ]
    }
   ],
   "source": [
    "for data_batch, labels_batch in train_generator:\n",
    "    print('data batch shape:', data_batch.shape)\n",
    "    print('labels batch shape:', labels_batch.shape)\n",
    "    break"
   ]
  },
  {
   "cell_type": "markdown",
   "id": "bd1e3d20-b234-46b5-a978-7321d104a0c8",
   "metadata": {},
   "source": [
    "#### Building network"
   ]
  },
  {
   "cell_type": "code",
   "execution_count": 59,
   "id": "de65e818-c510-4bcd-9fb1-927a8e5145f7",
   "metadata": {},
   "outputs": [],
   "source": [
    "model = models.Sequential()\n",
    "model.add(layers.Dense(64, activation='relu', input_shape=(150, 150, 3)))\n",
    "model.add(layers.Flatten())\n",
    "model.add(layers.Dense(1, activation='sigmoid'))\n",
    "\n",
    "model.compile(optimizer='rmsprop',\n",
    "              loss='binary_crossentropy',\n",
    "              metrics=['accuracy'])"
   ]
  },
  {
   "cell_type": "markdown",
   "id": "56bc8c66-9336-4590-910a-5239cbc8ecfb",
   "metadata": {},
   "source": [
    "#### Training model"
   ]
  },
  {
   "cell_type": "code",
   "execution_count": 60,
   "id": "6ae39b4d-20ce-452f-9e1c-f7c7208ca225",
   "metadata": {
    "tags": []
   },
   "outputs": [
    {
     "name": "stdout",
     "output_type": "stream",
     "text": [
      "Epoch 1/10\n",
      "6/6 [==============================] - 1s 134ms/step - loss: 56.4146 - accuracy: 0.4500 - val_loss: 7.7782 - val_accuracy: 0.5000\n",
      "Epoch 2/10\n",
      "6/6 [==============================] - 1s 99ms/step - loss: 21.4590 - accuracy: 0.5833 - val_loss: 13.5855 - val_accuracy: 0.4500\n",
      "Epoch 3/10\n",
      "6/6 [==============================] - 1s 99ms/step - loss: 22.1454 - accuracy: 0.5000 - val_loss: 14.9389 - val_accuracy: 0.5000\n",
      "Epoch 4/10\n",
      "6/6 [==============================] - 1s 97ms/step - loss: 12.5909 - accuracy: 0.5833 - val_loss: 6.6372 - val_accuracy: 0.6500\n",
      "Epoch 5/10\n",
      "6/6 [==============================] - 1s 97ms/step - loss: 6.8774 - accuracy: 0.6333 - val_loss: 8.0382 - val_accuracy: 0.6500\n",
      "Epoch 6/10\n",
      "6/6 [==============================] - 1s 95ms/step - loss: 10.0006 - accuracy: 0.5667 - val_loss: 30.3291 - val_accuracy: 0.5000\n",
      "Epoch 7/10\n",
      "6/6 [==============================] - 1s 91ms/step - loss: 5.6894 - accuracy: 0.8333 - val_loss: 12.8037 - val_accuracy: 0.5000\n",
      "Epoch 8/10\n",
      "6/6 [==============================] - 1s 98ms/step - loss: 5.4899 - accuracy: 0.7667 - val_loss: 4.6176 - val_accuracy: 0.6500\n",
      "Epoch 9/10\n",
      "6/6 [==============================] - 1s 92ms/step - loss: 6.2382 - accuracy: 0.7500 - val_loss: 11.7791 - val_accuracy: 0.6500\n",
      "Epoch 10/10\n",
      "6/6 [==============================] - 1s 94ms/step - loss: 5.0860 - accuracy: 0.6000 - val_loss: 12.4303 - val_accuracy: 0.6500\n"
     ]
    }
   ],
   "source": [
    "historyBinaryANN = model.fit(\n",
    "      train_generator,\n",
    "      steps_per_epoch=6,\n",
    "      epochs=10,\n",
    "      validation_data=validation_generator,\n",
    "      validation_steps=2)"
   ]
  },
  {
   "cell_type": "code",
   "execution_count": 61,
   "id": "57a6842a-5a37-4f88-9def-a6bad70d10f4",
   "metadata": {},
   "outputs": [
    {
     "data": {
      "image/png": "[encoded data removed]",
      "text/plain": [
       "<Figure size 432x288 with 1 Axes>"
      ]
     },
     "metadata": {
      "needs_background": "light"
     },
     "output_type": "display_data"
    }
   ],
   "source": [
    "import matplotlib.pyplot as plt\n",
    "\n",
    "loss = historyBinaryANN.history['loss']\n",
    "val_loss = historyBinaryANN.history['val_loss']\n",
    "acc = historyBinaryANN.history['accuracy']\n",
    "val_acc = historyBinaryANN.history['val_accuracy']\n",
    "\n",
    "epochs = range(1, len(acc) + 1)\n",
    "\n",
    "# \"bo\" is for \"blue dot\"\n",
    "plt.plot(epochs, loss, 'bo', label='Training loss')\n",
    "# b is for \"solid blue line\"\n",
    "plt.plot(epochs, val_loss, 'b', label='Validation loss')\n",
    "plt.title('Training and validation loss')\n",
    "plt.xlabel('Epochs')\n",
    "plt.ylabel('Loss')\n",
    "plt.legend()\n",
    "\n",
    "plt.show()"
   ]
  },
  {
   "cell_type": "code",
   "execution_count": 62,
   "id": "f898cef4-c6ee-4c00-81cb-e31fc7d9a9c8",
   "metadata": {},
   "outputs": [
    {
     "data": {
      "text/plain": [
       "<matplotlib.legend.Legend at 0x7fb96405e150>"
      ]
     },
     "execution_count": 62,
     "metadata": {},
     "output_type": "execute_result"
    },
    {
     "data": {
      "image/png": "[encoded data removed]",
      "text/plain": [
       "<Figure size 432x288 with 1 Axes>"
      ]
     },
     "metadata": {
      "needs_background": "light"
     },
     "output_type": "display_data"
    }
   ],
   "source": [
    "plt.plot(epochs, acc, 'bo', label='Training acc')\n",
    "plt.plot(epochs, val_acc, 'b', label='Validation acc')\n",
    "plt.title('Training and validation accuracy')\n",
    "plt.xlabel('Epochs')\n",
    "plt.ylabel('Loss')\n",
    "plt.legend()"
   ]
  },
  {
   "cell_type": "markdown",
   "id": "64f4b6cd-72e1-436f-815d-aecac2eed298",
   "metadata": {
    "tags": []
   },
   "source": [
    "#### Evaluating model with test set"
   ]
  },
  {
   "cell_type": "code",
   "execution_count": 63,
   "id": "360f3d21-5538-4053-aed2-ec301ee2f69c",
   "metadata": {},
   "outputs": [
    {
     "name": "stdout",
     "output_type": "stream",
     "text": [
      "1/1 [==============================] - 0s 130ms/step - loss: 13.7650 - accuracy: 0.5500\n",
      "Test accuracy: 0.550000011920929\n"
     ]
    }
   ],
   "source": [
    "test_results = model.evaluate(test_generator)\n",
    "test_acc_bin_ann = test_results[1]\n",
    "print(f\"Test accuracy: {test_acc_bin_ann}\")"
   ]
  },
  {
   "cell_type": "markdown",
   "id": "19d28487-95a7-4321-bcee-add74a5d266f",
   "metadata": {
    "tags": []
   },
   "source": [
    "## Convolutional neural net for binary species classification"
   ]
  },
  {
   "cell_type": "code",
   "execution_count": 64,
   "id": "f93fb907-2c26-4d7f-ba3f-1aa937752145",
   "metadata": {},
   "outputs": [],
   "source": [
    "model = models.Sequential()\n",
    "model.add(layers.Conv2D(32, (3, 3), activation='relu',\n",
    "                        input_shape=(150, 150, 3)))\n",
    "model.add(layers.MaxPooling2D((2, 2)))\n",
    "model.add(layers.Conv2D(64, (3, 3), activation='relu'))\n",
    "model.add(layers.MaxPooling2D((2, 2)))\n",
    "model.add(layers.Conv2D(128, (3, 3), activation='relu'))\n",
    "model.add(layers.MaxPooling2D((2, 2)))\n",
    "model.add(layers.Conv2D(128, (3, 3), activation='relu'))\n",
    "model.add(layers.MaxPooling2D((2, 2)))\n",
    "model.add(layers.Flatten())\n",
    "model.add(layers.Dense(512, activation='relu'))\n",
    "model.add(layers.Dense(1, activation='sigmoid'))\n",
    "\n",
    "model.compile(loss='binary_crossentropy',\n",
    "              optimizer=tf.keras.optimizers.RMSprop(learning_rate=1e-4),\n",
    "              metrics=['acc'])"
   ]
  },
  {
   "cell_type": "code",
   "execution_count": 65,
   "id": "0cdd4456-43db-40ef-9829-8e6fcbb34384",
   "metadata": {
    "tags": []
   },
   "outputs": [
    {
     "name": "stdout",
     "output_type": "stream",
     "text": [
      "Epoch 1/12\n",
      "6/6 [==============================] - 1s 136ms/step - loss: 0.7105 - acc: 0.5167 - val_loss: 0.6796 - val_acc: 0.6000\n",
      "Epoch 2/12\n",
      "6/6 [==============================] - 1s 101ms/step - loss: 0.6807 - acc: 0.6667 - val_loss: 0.6710 - val_acc: 0.5000\n",
      "Epoch 3/12\n",
      "6/6 [==============================] - 1s 85ms/step - loss: 0.6433 - acc: 0.5833 - val_loss: 0.6287 - val_acc: 0.7500\n",
      "Epoch 4/12\n",
      "6/6 [==============================] - 0s 79ms/step - loss: 0.5745 - acc: 0.8167 - val_loss: 0.5751 - val_acc: 0.8000\n",
      "Epoch 5/12\n",
      "6/6 [==============================] - 1s 98ms/step - loss: 0.5759 - acc: 0.7000 - val_loss: 0.6248 - val_acc: 0.5500\n",
      "Epoch 6/12\n",
      "6/6 [==============================] - 1s 95ms/step - loss: 0.5202 - acc: 0.7667 - val_loss: 0.5701 - val_acc: 0.6500\n",
      "Epoch 7/12\n",
      "6/6 [==============================] - 1s 92ms/step - loss: 0.4922 - acc: 0.7500 - val_loss: 0.4867 - val_acc: 0.8500\n",
      "Epoch 8/12\n",
      "6/6 [==============================] - 1s 80ms/step - loss: 0.4075 - acc: 0.8667 - val_loss: 0.5709 - val_acc: 0.6500\n",
      "Epoch 9/12\n",
      "6/6 [==============================] - 0s 81ms/step - loss: 0.3997 - acc: 0.8167 - val_loss: 0.4341 - val_acc: 0.8500\n",
      "Epoch 10/12\n",
      "6/6 [==============================] - 1s 84ms/step - loss: 0.4070 - acc: 0.8333 - val_loss: 0.4485 - val_acc: 0.8500\n",
      "Epoch 11/12\n",
      "6/6 [==============================] - 1s 92ms/step - loss: 0.3223 - acc: 0.8833 - val_loss: 0.5807 - val_acc: 0.6500\n",
      "Epoch 12/12\n",
      "6/6 [==============================] - 0s 76ms/step - loss: 0.2858 - acc: 0.9500 - val_loss: 0.3926 - val_acc: 0.8500\n"
     ]
    }
   ],
   "source": [
    "historyBinaryCNN = model.fit(\n",
    "      train_generator,\n",
    "      steps_per_epoch=6,\n",
    "      epochs=12,\n",
    "      validation_data=validation_generator,\n",
    "      validation_steps=2)"
   ]
  },
  {
   "cell_type": "code",
   "execution_count": 66,
   "id": "ebc8a2d1-87a9-4ac8-be90-918a9ca2cad8",
   "metadata": {},
   "outputs": [
    {
     "data": {
      "image/png": "[encoded data removed]",
      "text/plain": [
       "<Figure size 432x288 with 1 Axes>"
      ]
     },
     "metadata": {
      "needs_background": "light"
     },
     "output_type": "display_data"
    }
   ],
   "source": [
    "loss = historyBinaryCNN.history['loss']\n",
    "val_loss = historyBinaryCNN.history['val_loss']\n",
    "acc = historyBinaryCNN.history['acc']\n",
    "val_acc = historyBinaryCNN.history['val_acc']\n",
    "\n",
    "epochs = range(1, len(acc) + 1)\n",
    "\n",
    "# \"bo\" is for \"blue dot\"\n",
    "plt.plot(epochs, loss, 'bo', label='Training loss')\n",
    "# b is for \"solid blue line\"\n",
    "plt.plot(epochs, val_loss, 'b', label='Validation loss')\n",
    "plt.title('Training and validation loss')\n",
    "plt.xlabel('Epochs')\n",
    "plt.ylabel('Loss')\n",
    "plt.legend()\n",
    "\n",
    "plt.show()"
   ]
  },
  {
   "cell_type": "code",
   "execution_count": 67,
   "id": "939f8085-7eb1-4629-9b05-f18ff6eebe66",
   "metadata": {},
   "outputs": [
    {
     "data": {
      "text/plain": [
       "<matplotlib.legend.Legend at 0x7fb9503f45d0>"
      ]
     },
     "execution_count": 67,
     "metadata": {},
     "output_type": "execute_result"
    },
    {
     "data": {
      "image/png": "[encoded data removed]",
      "text/plain": [
       "<Figure size 432x288 with 1 Axes>"
      ]
     },
     "metadata": {
      "needs_background": "light"
     },
     "output_type": "display_data"
    }
   ],
   "source": [
    "plt.plot(epochs, acc, 'bo', label='Training acc')\n",
    "plt.plot(epochs, val_acc, 'b', label='Validation acc')\n",
    "plt.title('Training and validation accuracy')\n",
    "plt.xlabel('Epochs')\n",
    "plt.ylabel('Accuracy')\n",
    "plt.legend()"
   ]
  },
  {
   "cell_type": "markdown",
   "id": "851d4ef2-5907-477c-9295-42a3f4a13b20",
   "metadata": {
    "tags": []
   },
   "source": [
    "#### Evaluating model with test set"
   ]
  },
  {
   "cell_type": "code",
   "execution_count": 68,
   "id": "6d881f23-e6d5-45db-ae57-dcc9afa87794",
   "metadata": {},
   "outputs": [
    {
     "name": "stdout",
     "output_type": "stream",
     "text": [
      "1/1 [==============================] - 0s 109ms/step - loss: 0.4717 - acc: 0.9000\n",
      "Test accuracy: 0.8999999761581421\n"
     ]
    }
   ],
   "source": [
    "test_results = model.evaluate(test_generator)\n",
    "test_acc_bin_cnn = test_results[1]\n",
    "print(f\"Test accuracy: {test_acc_bin_cnn}\")"
   ]
  },
  {
   "cell_type": "markdown",
   "id": "1f19a5f5-0675-4526-b490-6ef37bc8dfb6",
   "metadata": {},
   "source": [
    "## Comparing network types"
   ]
  },
  {
   "cell_type": "markdown",
   "id": "cd0f11e2-b3f9-435c-814f-14d75805fe22",
   "metadata": {},
   "source": [
    "It appears that the convolutional neural net outperformed the vanilla nueral net at classifying the two species in the test set of images, shown by the accuracy scores below."
   ]
  },
  {
   "cell_type": "code",
   "execution_count": 69,
   "id": "ac187ffe-d253-448f-8f57-82f46d429305",
   "metadata": {},
   "outputs": [
    {
     "name": "stdout",
     "output_type": "stream",
     "text": [
      "Test accuracy for standard neural net: 0.550000011920929\n",
      "Test accuracy for convolutional neural net: 0.8999999761581421\n"
     ]
    }
   ],
   "source": [
    "print(f\"Test accuracy for standard neural net: {test_acc_bin_ann}\")\n",
    "print(f\"Test accuracy for convolutional neural net: {test_acc_bin_cnn}\")"
   ]
  },
  {
   "cell_type": "markdown",
   "id": "84212597-aab8-4782-b01c-76600e92554d",
   "metadata": {
    "tags": []
   },
   "source": [
    "# Multiclass classification"
   ]
  },
  {
   "cell_type": "markdown",
   "id": "75d3dc8d-9d48-4524-99d3-f8d665e301be",
   "metadata": {},
   "source": [
    "## Artificial neural net for multi-species classification"
   ]
  },
  {
   "cell_type": "markdown",
   "id": "e182c512-f381-41ad-9595-0f2fd1295682",
   "metadata": {},
   "source": [
    "#### Data pre-processing"
   ]
  },
  {
   "cell_type": "code",
   "execution_count": 70,
   "id": "cbef0f73-4e58-4dce-88ec-e358aae24ead",
   "metadata": {},
   "outputs": [
    {
     "name": "stdout",
     "output_type": "stream",
     "text": [
      "Found 300 images belonging to 10 classes.\n",
      "Found 100 images belonging to 10 classes.\n",
      "Found 100 images belonging to 10 classes.\n"
     ]
    }
   ],
   "source": [
    "train_dir = 'inat_subset/train'\n",
    "validation_dir = 'inat_subset/validation'\n",
    "test_dir = 'inat_subset/test'\n",
    "\n",
    "# All images will be rescaled by 1./255\n",
    "train_datagen = ImageDataGenerator(rescale=1./255)\n",
    "validation_datagen = ImageDataGenerator(rescale=1./255)\n",
    "test_datagen = ImageDataGenerator(rescale=1./255)\n",
    "\n",
    "train_generator = train_datagen.flow_from_directory(\n",
    "        train_dir,\n",
    "        target_size=(150, 150),\n",
    "        batch_size=20,\n",
    "        class_mode='categorical')\n",
    "\n",
    "validation_generator = validation_datagen.flow_from_directory(\n",
    "        validation_dir,\n",
    "        target_size=(150, 150),\n",
    "        batch_size=20,\n",
    "        class_mode='categorical')\n",
    "\n",
    "test_generator = test_datagen.flow_from_directory(\n",
    "        test_dir,\n",
    "        target_size=(150, 150),\n",
    "        batch_size=100,\n",
    "        class_mode='categorical')"
   ]
  },
  {
   "cell_type": "markdown",
   "id": "4a283f0d-94ef-409d-90b6-0bb0083ddd4c",
   "metadata": {},
   "source": [
    "#### Checking batch shapes"
   ]
  },
  {
   "cell_type": "code",
   "execution_count": 71,
   "id": "df665881-8127-4523-81c4-0e4094130ec1",
   "metadata": {},
   "outputs": [
    {
     "name": "stdout",
     "output_type": "stream",
     "text": [
      "data batch shape: (20, 150, 150, 3)\n",
      "labels batch shape: (20, 10)\n"
     ]
    }
   ],
   "source": [
    "for data_batch, labels_batch in train_generator:\n",
    "    print('data batch shape:', data_batch.shape)\n",
    "    print('labels batch shape:', labels_batch.shape)\n",
    "    break"
   ]
  },
  {
   "cell_type": "markdown",
   "id": "5a9ac99b-8ef4-44bc-b05a-72c4f976a02a",
   "metadata": {},
   "source": [
    "#### Build network"
   ]
  },
  {
   "cell_type": "code",
   "execution_count": 72,
   "id": "11f960a1-ce2b-4947-b86a-9e6f47dee74b",
   "metadata": {
    "tags": []
   },
   "outputs": [],
   "source": [
    "model = models.Sequential()\n",
    "model.add(layers.Dense(64, activation='relu', input_shape=(150, 150, 3)))\n",
    "model.add(layers.Dense(16, activation='relu'))\n",
    "model.add(layers.Flatten())\n",
    "model.add(layers.Dense(10, activation='softmax'))\n",
    "\n",
    "model.compile(optimizer='rmsprop',\n",
    "              loss='categorical_crossentropy',\n",
    "              metrics=['acc'])"
   ]
  },
  {
   "cell_type": "code",
   "execution_count": 73,
   "id": "76d60ba7-ee3c-4a80-9e65-d26a39b94edb",
   "metadata": {
    "tags": []
   },
   "outputs": [
    {
     "name": "stdout",
     "output_type": "stream",
     "text": [
      "Epoch 1/8\n",
      "15/15 [==============================] - 2s 127ms/step - loss: 19.1815 - acc: 0.1500 - val_loss: 3.5389 - val_acc: 0.2100\n",
      "Epoch 2/8\n",
      "15/15 [==============================] - 2s 115ms/step - loss: 2.6431 - acc: 0.3000 - val_loss: 2.9663 - val_acc: 0.2100\n",
      "Epoch 3/8\n",
      "15/15 [==============================] - 2s 115ms/step - loss: 1.8417 - acc: 0.4167 - val_loss: 2.4828 - val_acc: 0.3000\n",
      "Epoch 4/8\n",
      "15/15 [==============================] - 2s 114ms/step - loss: 1.2655 - acc: 0.6100 - val_loss: 2.4426 - val_acc: 0.2400\n",
      "Epoch 5/8\n",
      "15/15 [==============================] - 2s 115ms/step - loss: 0.8746 - acc: 0.7467 - val_loss: 3.1222 - val_acc: 0.3000\n",
      "Epoch 6/8\n",
      "15/15 [==============================] - 2s 118ms/step - loss: 0.5890 - acc: 0.8500 - val_loss: 3.0526 - val_acc: 0.3200\n",
      "Epoch 7/8\n",
      "15/15 [==============================] - 2s 119ms/step - loss: 0.4416 - acc: 0.9000 - val_loss: 2.6511 - val_acc: 0.3300\n",
      "Epoch 8/8\n",
      "15/15 [==============================] - 2s 119ms/step - loss: 0.3021 - acc: 0.9300 - val_loss: 3.1500 - val_acc: 0.3200\n"
     ]
    }
   ],
   "source": [
    "historyMultiANN = model.fit(\n",
    "      train_generator,\n",
    "      steps_per_epoch=15,\n",
    "      epochs=8,\n",
    "      validation_data=validation_generator,\n",
    "      validation_steps=5)"
   ]
  },
  {
   "cell_type": "code",
   "execution_count": 74,
   "id": "97af12d1-2882-45f9-b400-6eeada798c36",
   "metadata": {
    "tags": []
   },
   "outputs": [
    {
     "data": {
      "image/png": "[encoded data removed]",
      "text/plain": [
       "<Figure size 432x288 with 1 Axes>"
      ]
     },
     "metadata": {
      "needs_background": "light"
     },
     "output_type": "display_data"
    }
   ],
   "source": [
    "loss = historyMultiANN.history['loss']\n",
    "val_loss = historyMultiANN.history['val_loss']\n",
    "acc = historyMultiANN.history['acc']\n",
    "val_acc = historyMultiANN.history['val_acc']\n",
    "\n",
    "epochs = range(1, len(acc) + 1)\n",
    "\n",
    "# \"bo\" is for \"blue dot\"\n",
    "plt.plot(epochs, loss, 'bo', label='Training loss')\n",
    "# b is for \"solid blue line\"\n",
    "plt.plot(epochs, val_loss, 'b', label='Validation loss')\n",
    "plt.title('Training and validation loss')\n",
    "plt.xlabel('Epochs')\n",
    "plt.ylabel('Loss')\n",
    "plt.legend()\n",
    "\n",
    "plt.show()"
   ]
  },
  {
   "cell_type": "code",
   "execution_count": 75,
   "id": "649c6089-ef0f-44eb-92e2-01eb40792a43",
   "metadata": {},
   "outputs": [
    {
     "data": {
      "text/plain": [
       "<matplotlib.legend.Legend at 0x7fb98437ea90>"
      ]
     },
     "execution_count": 75,
     "metadata": {},
     "output_type": "execute_result"
    },
    {
     "data": {
      "image/png": "[encoded data removed]",
      "text/plain": [
       "<Figure size 432x288 with 1 Axes>"
      ]
     },
     "metadata": {
      "needs_background": "light"
     },
     "output_type": "display_data"
    }
   ],
   "source": [
    "plt.plot(epochs, acc, 'bo', label='Training acc')\n",
    "plt.plot(epochs, val_acc, 'b', label='Validation acc')\n",
    "plt.title('Training and validation accuracy')\n",
    "plt.xlabel('Epochs')\n",
    "plt.ylabel('Accuracy')\n",
    "plt.legend()"
   ]
  },
  {
   "cell_type": "markdown",
   "id": "4f5ef4e6-73be-4258-9d7a-a48a3811945f",
   "metadata": {},
   "source": [
    "*The model starts to overfit after ~5 epochs.*"
   ]
  },
  {
   "cell_type": "markdown",
   "id": "7186ef86-39bf-4c20-b0bc-06e660b89258",
   "metadata": {
    "tags": []
   },
   "source": [
    "#### Evaluating model with test set"
   ]
  },
  {
   "cell_type": "code",
   "execution_count": 76,
   "id": "54be69aa-541f-4248-a9ef-2bb7675cc132",
   "metadata": {},
   "outputs": [
    {
     "name": "stdout",
     "output_type": "stream",
     "text": [
      "1/1 [==============================] - 0s 474ms/step - loss: 3.0515 - acc: 0.2900\n",
      "Test accuracy: 0.28999999165534973\n"
     ]
    }
   ],
   "source": [
    "test_results = model.evaluate(test_generator)\n",
    "test_acc_multi_ann = test_results[1]\n",
    "print(f\"Test accuracy: {test_acc_multi_ann}\")"
   ]
  },
  {
   "cell_type": "markdown",
   "id": "b2e22c6f-e571-42ba-9ca0-ac8c20d081b0",
   "metadata": {
    "tags": []
   },
   "source": [
    "## Convolutional neural net for multi-species classification"
   ]
  },
  {
   "cell_type": "code",
   "execution_count": 77,
   "id": "09d0ec5c-1313-47c1-a690-335462629215",
   "metadata": {},
   "outputs": [],
   "source": [
    "model = models.Sequential()\n",
    "model.add(layers.Conv2D(32, (3, 3), activation='relu',\n",
    "                        input_shape=(150, 150, 3)))\n",
    "model.add(layers.MaxPooling2D((2, 2)))\n",
    "model.add(layers.Conv2D(64, (3, 3), activation='relu'))\n",
    "model.add(layers.MaxPooling2D((2, 2)))\n",
    "model.add(layers.Conv2D(128, (3, 3), activation='relu'))\n",
    "model.add(layers.MaxPooling2D((2, 2)))\n",
    "model.add(layers.Conv2D(128, (3, 3), activation='relu'))\n",
    "model.add(layers.MaxPooling2D((2, 2)))\n",
    "model.add(layers.Flatten())\n",
    "model.add(layers.Dense(512, activation='relu'))\n",
    "model.add(layers.Dense(10, activation='softmax'))\n",
    "\n",
    "model.compile(loss='categorical_crossentropy',\n",
    "              optimizer=tf.keras.optimizers.RMSprop(learning_rate=1e-4),\n",
    "              metrics=['acc'])"
   ]
  },
  {
   "cell_type": "code",
   "execution_count": 78,
   "id": "7cea08cb-072b-4ab0-903b-feabf7ac8f3b",
   "metadata": {
    "tags": []
   },
   "outputs": [
    {
     "name": "stdout",
     "output_type": "stream",
     "text": [
      "Epoch 1/20\n",
      "15/15 [==============================] - 3s 161ms/step - loss: 2.3293 - acc: 0.0933 - val_loss: 2.2757 - val_acc: 0.1300\n",
      "Epoch 2/20\n",
      "15/15 [==============================] - 2s 145ms/step - loss: 2.2654 - acc: 0.1633 - val_loss: 2.2213 - val_acc: 0.2200\n",
      "Epoch 3/20\n",
      "15/15 [==============================] - 2s 140ms/step - loss: 2.1601 - acc: 0.2433 - val_loss: 2.1012 - val_acc: 0.2700\n",
      "Epoch 4/20\n",
      "15/15 [==============================] - 2s 129ms/step - loss: 2.0336 - acc: 0.3567 - val_loss: 2.1044 - val_acc: 0.2600\n",
      "Epoch 5/20\n",
      "15/15 [==============================] - 2s 122ms/step - loss: 1.9294 - acc: 0.3367 - val_loss: 1.9758 - val_acc: 0.2700\n",
      "Epoch 6/20\n",
      "15/15 [==============================] - 2s 125ms/step - loss: 1.8606 - acc: 0.3667 - val_loss: 1.8669 - val_acc: 0.3900\n",
      "Epoch 7/20\n",
      "15/15 [==============================] - 2s 116ms/step - loss: 1.8194 - acc: 0.3867 - val_loss: 1.8557 - val_acc: 0.3400\n",
      "Epoch 8/20\n",
      "15/15 [==============================] - 2s 118ms/step - loss: 1.7092 - acc: 0.4267 - val_loss: 1.8612 - val_acc: 0.3300\n",
      "Epoch 9/20\n",
      "15/15 [==============================] - 2s 124ms/step - loss: 1.6850 - acc: 0.4467 - val_loss: 1.7937 - val_acc: 0.3800\n",
      "Epoch 10/20\n",
      "15/15 [==============================] - 2s 135ms/step - loss: 1.6505 - acc: 0.4633 - val_loss: 1.8078 - val_acc: 0.3700\n",
      "Epoch 11/20\n",
      "15/15 [==============================] - 2s 118ms/step - loss: 1.5371 - acc: 0.4800 - val_loss: 1.7445 - val_acc: 0.3900\n",
      "Epoch 12/20\n",
      "15/15 [==============================] - 2s 117ms/step - loss: 1.5211 - acc: 0.4867 - val_loss: 1.7748 - val_acc: 0.3900\n",
      "Epoch 13/20\n",
      "15/15 [==============================] - 2s 136ms/step - loss: 1.4349 - acc: 0.5267 - val_loss: 1.8991 - val_acc: 0.4000\n",
      "Epoch 14/20\n",
      "15/15 [==============================] - 2s 124ms/step - loss: 1.4004 - acc: 0.5467 - val_loss: 1.6938 - val_acc: 0.3700\n",
      "Epoch 15/20\n",
      "15/15 [==============================] - 2s 122ms/step - loss: 1.3887 - acc: 0.5233 - val_loss: 1.7556 - val_acc: 0.4600\n",
      "Epoch 16/20\n",
      "15/15 [==============================] - 2s 117ms/step - loss: 1.3124 - acc: 0.5767 - val_loss: 1.7282 - val_acc: 0.4200\n",
      "Epoch 17/20\n",
      "15/15 [==============================] - 2s 130ms/step - loss: 1.3087 - acc: 0.5933 - val_loss: 1.8023 - val_acc: 0.3900\n",
      "Epoch 18/20\n",
      "15/15 [==============================] - 2s 126ms/step - loss: 1.2524 - acc: 0.5767 - val_loss: 1.6735 - val_acc: 0.4400\n",
      "Epoch 19/20\n",
      "15/15 [==============================] - 2s 122ms/step - loss: 1.1626 - acc: 0.6300 - val_loss: 1.6796 - val_acc: 0.4300\n",
      "Epoch 20/20\n",
      "15/15 [==============================] - 2s 119ms/step - loss: 1.1506 - acc: 0.6400 - val_loss: 1.7948 - val_acc: 0.4000\n"
     ]
    }
   ],
   "source": [
    "historyMultiCNN = model.fit(\n",
    "      train_generator,\n",
    "      steps_per_epoch=15,\n",
    "      epochs=20,\n",
    "      validation_data=validation_generator,\n",
    "      validation_steps=5)"
   ]
  },
  {
   "cell_type": "code",
   "execution_count": 79,
   "id": "d4807979-32f6-4e12-9fe4-0ea498290420",
   "metadata": {
    "tags": []
   },
   "outputs": [
    {
     "data": {
      "image/png": "[encoded data removed]",
      "text/plain": [
       "<Figure size 432x288 with 1 Axes>"
      ]
     },
     "metadata": {
      "needs_background": "light"
     },
     "output_type": "display_data"
    }
   ],
   "source": [
    "loss = historyMultiCNN.history['loss']\n",
    "val_loss = historyMultiCNN.history['val_loss']\n",
    "acc = historyMultiCNN.history['acc']\n",
    "val_acc = historyMultiCNN.history['val_acc']\n",
    "\n",
    "epochs = range(1, len(acc) + 1)\n",
    "\n",
    "# \"bo\" is for \"blue dot\"\n",
    "plt.plot(epochs, loss, 'bo', label='Training loss')\n",
    "# b is for \"solid blue line\"\n",
    "plt.plot(epochs, val_loss, 'b', label='Validation loss')\n",
    "plt.title('Training and validation loss')\n",
    "plt.xlabel('Epochs')\n",
    "plt.ylabel('Loss')\n",
    "plt.legend()\n",
    "\n",
    "plt.show()"
   ]
  },
  {
   "cell_type": "code",
   "execution_count": 80,
   "id": "ac0e79e3-c165-438d-a9e4-c6cffb70bbc4",
   "metadata": {},
   "outputs": [
    {
     "data": {
      "text/plain": [
       "<matplotlib.legend.Legend at 0x7fb9501aa990>"
      ]
     },
     "execution_count": 80,
     "metadata": {},
     "output_type": "execute_result"
    },
    {
     "data": {
      "image/png": "[encoded data removed]",
      "text/plain": [
       "<Figure size 432x288 with 1 Axes>"
      ]
     },
     "metadata": {
      "needs_background": "light"
     },
     "output_type": "display_data"
    }
   ],
   "source": [
    "plt.plot(epochs, acc, 'bo', label='Training acc')\n",
    "plt.plot(epochs, val_acc, 'b', label='Validation acc')\n",
    "plt.title('Training and validation accuracy')\n",
    "plt.xlabel('Epochs')\n",
    "plt.ylabel('Accuracy')\n",
    "plt.legend()"
   ]
  },
  {
   "cell_type": "markdown",
   "id": "d488a52c-fc6a-4e57-80ee-46a33e80a416",
   "metadata": {
    "tags": []
   },
   "source": [
    "#### Evaluating model with test set"
   ]
  },
  {
   "cell_type": "code",
   "execution_count": 81,
   "id": "b3139666-22d0-4e2f-8a36-df21b25876fa",
   "metadata": {
    "tags": []
   },
   "outputs": [
    {
     "name": "stdout",
     "output_type": "stream",
     "text": [
      "1/1 [==============================] - 0s 440ms/step - loss: 2.0560 - acc: 0.3200\n",
      "Test accuracy: 0.3199999928474426\n"
     ]
    }
   ],
   "source": [
    "test_results = model.evaluate(test_generator)\n",
    "test_acc_multi_cnn = test_results[1]\n",
    "print(f\"Test accuracy: {test_acc_multi_cnn}\")"
   ]
  },
  {
   "cell_type": "markdown",
   "id": "d50fd8f2-9133-4d00-8660-65c5d86b5182",
   "metadata": {},
   "source": [
    "## Comparing network types"
   ]
  },
  {
   "cell_type": "markdown",
   "id": "f344a23a-20d3-40d2-8f2c-beaf4650363b",
   "metadata": {},
   "source": [
    "For multi-class classification, the convolutional neural net appears to outperform the standard neural net at classifying the test set, shown by the accuracy scores below."
   ]
  },
  {
   "cell_type": "code",
   "execution_count": 82,
   "id": "363ea0ab-a26d-4a0d-8ea9-bb6df4d82229",
   "metadata": {},
   "outputs": [
    {
     "name": "stdout",
     "output_type": "stream",
     "text": [
      "Test accuracy for standard neural net: 0.28999999165534973\n",
      "Test accuracy for convolutional neural net: 0.3199999928474426\n"
     ]
    }
   ],
   "source": [
    "print(f\"Test accuracy for standard neural net: {test_acc_multi_ann}\")\n",
    "print(f\"Test accuracy for convolutional neural net: {test_acc_multi_cnn}\")"
   ]
  }
 ],
 "metadata": {
  "kernelspec": {
   "display_name": "Python 3.7.7",
   "language": "python",
   "name": "py3.7.7"
  },
  "language_info": {
   "codemirror_mode": {
    "name": "ipython",
    "version": 3
   },
   "file_extension": ".py",
   "mimetype": "text/x-python",
   "name": "python",
   "nbconvert_exporter": "python",
   "pygments_lexer": "ipython3",
   "version": "3.7.7"
  }
 },
 "nbformat": 4,
 "nbformat_minor": 5
}
