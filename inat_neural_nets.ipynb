{
 "cells": [
  {
   "cell_type": "code",
   "execution_count": 18,
   "id": "a2d6d501-e9a1-450a-81c1-e11a5d48a9b0",
   "metadata": {},
   "outputs": [
    {
     "data": {
      "text/plain": [
       "'2.6.0'"
      ]
     },
     "execution_count": 18,
     "metadata": {},
     "output_type": "execute_result"
    }
   ],
   "source": [
    "import keras\n",
    "import tensorflow as tf\n",
    "import random\n",
    "import os\n",
    "keras.__version__"
   ]
  },
  {
   "cell_type": "markdown",
   "id": "1dd422ce-1ae9-4792-93bf-1070a05029c3",
   "metadata": {},
   "source": [
    "## Selecting species"
   ]
  },
  {
   "cell_type": "code",
   "execution_count": 3,
   "id": "6d4714e5-11fc-4254-9d54-e05488faa9ea",
   "metadata": {},
   "outputs": [],
   "source": [
    "dir_train_mini = \"/courses/EDS232/inaturalist-2021/train_mini\""
   ]
  },
  {
   "cell_type": "code",
   "execution_count": 22,
   "id": "ff8c9f8c-1574-4607-96c7-d7da171a01ce",
   "metadata": {},
   "outputs": [
    {
     "data": {
      "text/plain": [
       "10000"
      ]
     },
     "execution_count": 22,
     "metadata": {},
     "output_type": "execute_result"
    }
   ],
   "source": [
    "dirs_spp = os.listdir(dir_train_mini)\n",
    "n_spp = len(dirs_spp)\n",
    "n_spp"
   ]
  },
  {
   "cell_type": "code",
   "execution_count": 13,
   "id": "f1fd397f-52c6-4527-a49c-61926bcb8123",
   "metadata": {},
   "outputs": [],
   "source": [
    "seed = hash(\"petermenzies\")"
   ]
  },
  {
   "cell_type": "code",
   "execution_count": 19,
   "id": "7ee7388c-9004-4b13-b024-5661e556a3be",
   "metadata": {},
   "outputs": [],
   "source": [
    "random.seed(seed)"
   ]
  },
  {
   "cell_type": "code",
   "execution_count": 27,
   "id": "bd3985d7-9f1c-4b9e-9586-665edfe35419",
   "metadata": {},
   "outputs": [
    {
     "data": {
      "text/plain": [
       "[5779, 663, 4821, 6577, 1765, 2189, 4904, 3341, 9753, 4922]"
      ]
     },
     "execution_count": 27,
     "metadata": {},
     "output_type": "execute_result"
    }
   ],
   "source": [
    "i10 = random.sample(range(1, n_spp), 10)\n",
    "i10"
   ]
  },
  {
   "cell_type": "code",
   "execution_count": 46,
   "id": "467660e6-dd74-4446-9a34-035a81dfa26a",
   "metadata": {},
   "outputs": [
    {
     "name": "stdout",
     "output_type": "stream",
     "text": [
      "03110_Animalia_Chordata_Ascidiacea_Stolidobranchia_Styelidae_Botryllus_schlosseri\n",
      "01145_Animalia_Arthropoda_Insecta_Lepidoptera_Gelechiidae_Chionodes_mediofuscella\n",
      "02575_Animalia_Arthropoda_Insecta_Odonata_Libellulidae_Sympetrum_vicinum\n",
      "06968_Plantae_Tracheophyta_Magnoliopsida_Asterales_Asteraceae_Scorzoneroides_autumnalis\n",
      "01427_Animalia_Arthropoda_Insecta_Lepidoptera_Limacodidae_Apoda_biguttata\n",
      "06218_Plantae_Tracheophyta_Liliopsida_Liliales_Smilacaceae_Smilax_laurifolia\n",
      "02536_Animalia_Arthropoda_Insecta_Odonata_Libellulidae_Orthetrum_chrysostigma\n",
      "02194_Animalia_Arthropoda_Insecta_Lepidoptera_Sphingidae_Hemaris_diffinis\n",
      "08986_Plantae_Tracheophyta_Magnoliopsida_Malvales_Malvaceae_Waltheria_indica\n",
      "05908_Plantae_Tracheophyta_Liliopsida_Asparagales_Asparagaceae_Maianthemum_racemosum\n"
     ]
    }
   ],
   "source": [
    "for i in range(0, len(i10)):\n",
    "    print(os.path.basename(dirs_spp[i10[i]]))"
   ]
  },
  {
   "cell_type": "code",
   "execution_count": 56,
   "id": "e404269a-ea60-48e0-ba81-a9ea5d13765c",
   "metadata": {},
   "outputs": [],
   "source": [
    "i2 = i10[0:2]"
   ]
  },
  {
   "cell_type": "code",
   "execution_count": 58,
   "id": "dc78f2ce-9de8-4722-b0ce-368cb9cf066c",
   "metadata": {},
   "outputs": [
    {
     "name": "stdout",
     "output_type": "stream",
     "text": [
      "03110_Animalia_Chordata_Ascidiacea_Stolidobranchia_Styelidae_Botryllus_schlosseri\n",
      "01145_Animalia_Arthropoda_Insecta_Lepidoptera_Gelechiidae_Chionodes_mediofuscella\n"
     ]
    }
   ],
   "source": [
    "for i in range(0, len(i2)):\n",
    "    print(os.path.basename(dirs_spp[i2[i]]))"
   ]
  },
  {
   "cell_type": "code",
   "execution_count": null,
   "id": "2d11c336-7f19-46db-b418-847f11d4afd7",
   "metadata": {},
   "outputs": [],
   "source": []
  }
 ],
 "metadata": {
  "kernelspec": {
   "display_name": "Python 3.7.7",
   "language": "python",
   "name": "py3.7.7"
  },
  "language_info": {
   "codemirror_mode": {
    "name": "ipython",
    "version": 3
   },
   "file_extension": ".py",
   "mimetype": "text/x-python",
   "name": "python",
   "nbconvert_exporter": "python",
   "pygments_lexer": "ipython3",
   "version": "3.7.7"
  }
 },
 "nbformat": 4,
 "nbformat_minor": 5
}
