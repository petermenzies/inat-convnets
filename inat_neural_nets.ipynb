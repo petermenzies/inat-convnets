{
 "cells": [
  {
   "cell_type": "code",
   "execution_count": 32,
   "id": "a2d6d501-e9a1-450a-81c1-e11a5d48a9b0",
   "metadata": {},
   "outputs": [
    {
     "data": {
      "text/plain": [
       "'2.6.0'"
      ]
     },
     "execution_count": 32,
     "metadata": {},
     "output_type": "execute_result"
    }
   ],
   "source": [
    "import keras\n",
    "import tensorflow as tf\n",
    "import random\n",
    "import shutil\n",
    "import os\n",
    "keras.__version__"
   ]
  },
  {
   "cell_type": "markdown",
   "id": "1dd422ce-1ae9-4792-93bf-1070a05029c3",
   "metadata": {},
   "source": [
    "## Selecting species"
   ]
  },
  {
   "cell_type": "code",
   "execution_count": 2,
   "id": "6d4714e5-11fc-4254-9d54-e05488faa9ea",
   "metadata": {},
   "outputs": [],
   "source": [
    "dir_train_mini = \"/courses/EDS232/inaturalist-2021/train_mini\""
   ]
  },
  {
   "cell_type": "code",
   "execution_count": 3,
   "id": "ff8c9f8c-1574-4607-96c7-d7da171a01ce",
   "metadata": {},
   "outputs": [
    {
     "data": {
      "text/plain": [
       "10000"
      ]
     },
     "execution_count": 3,
     "metadata": {},
     "output_type": "execute_result"
    }
   ],
   "source": [
    "dirs_spp = os.listdir(dir_train_mini)\n",
    "n_spp = len(dirs_spp)\n",
    "n_spp"
   ]
  },
  {
   "cell_type": "code",
   "execution_count": 4,
   "id": "f1fd397f-52c6-4527-a49c-61926bcb8123",
   "metadata": {},
   "outputs": [],
   "source": [
    "seed_value = 71993"
   ]
  },
  {
   "cell_type": "code",
   "execution_count": 5,
   "id": "bd3985d7-9f1c-4b9e-9586-665edfe35419",
   "metadata": {},
   "outputs": [
    {
     "data": {
      "text/plain": [
       "[6265, 8377, 9422, 2010, 7951, 3269, 4966, 3475, 9868, 6903]"
      ]
     },
     "execution_count": 5,
     "metadata": {},
     "output_type": "execute_result"
    }
   ],
   "source": [
    "random.seed(seed_value)\n",
    "i10 = random.sample(range(1, n_spp), 10)\n",
    "i10"
   ]
  },
  {
   "cell_type": "code",
   "execution_count": 6,
   "id": "467660e6-dd74-4446-9a34-035a81dfa26a",
   "metadata": {},
   "outputs": [
    {
     "name": "stdout",
     "output_type": "stream",
     "text": [
      "02163_Animalia_Arthropoda_Insecta_Lepidoptera_Saturniidae_Hyalophora_columbia\n",
      "09827_Plantae_Tracheophyta_Pinopsida_Pinales_Pinaceae_Pinus_monophylla\n",
      "00004_Animalia_Arthropoda_Arachnida_Araneae_Agelenidae_Eratigena_duellica\n",
      "03353_Animalia_Chordata_Aves_Charadriiformes_Charadriidae_Charadrius_leschenaultii\n",
      "00283_Animalia_Arthropoda_Insecta_Coleoptera_Chrysomelidae_Disonycha_glabrata\n",
      "09526_Plantae_Tracheophyta_Magnoliopsida_Santalales_Santalaceae_Phoradendron_leucarpum\n",
      "06969_Plantae_Tracheophyta_Magnoliopsida_Asterales_Asteraceae_Senecio_ampullaceus\n",
      "04410_Animalia_Chordata_Aves_Pelecaniformes_Threskiornithidae_Theristicus_caudatus\n",
      "03042_Animalia_Chordata_Amphibia_Anura_Ranidae_Rana_cascadae\n",
      "04087_Animalia_Chordata_Aves_Passeriformes_Parulidae_Setophaga_townsendi\n"
     ]
    }
   ],
   "source": [
    "for i in range(0, len(i10)):\n",
    "    print(os.path.basename(dirs_spp[i10[i]]))"
   ]
  },
  {
   "cell_type": "code",
   "execution_count": 7,
   "id": "e404269a-ea60-48e0-ba81-a9ea5d13765c",
   "metadata": {},
   "outputs": [],
   "source": [
    "i2 = i10[0:2]"
   ]
  },
  {
   "cell_type": "code",
   "execution_count": 8,
   "id": "dc78f2ce-9de8-4722-b0ce-368cb9cf066c",
   "metadata": {},
   "outputs": [
    {
     "name": "stdout",
     "output_type": "stream",
     "text": [
      "02163_Animalia_Arthropoda_Insecta_Lepidoptera_Saturniidae_Hyalophora_columbia\n",
      "09827_Plantae_Tracheophyta_Pinopsida_Pinales_Pinaceae_Pinus_monophylla\n"
     ]
    }
   ],
   "source": [
    "for i in range(0, len(i2)):\n",
    "    print(os.path.basename(dirs_spp[i2[i]]))"
   ]
  },
  {
   "cell_type": "markdown",
   "id": "380253fe-4bf2-4fee-9b22-d60569dd4bf2",
   "metadata": {},
   "source": [
    "## Building file structure"
   ]
  },
  {
   "cell_type": "code",
   "execution_count": 10,
   "id": "9d2ab4be-6795-4f04-9f87-9b10b990c000",
   "metadata": {},
   "outputs": [],
   "source": [
    "original_dataset_dir = dir_train_mini\n",
    "\n",
    "# The directory where we stored our smaller dataset\n",
    "base_dir = \"/Users/petermenzies/eds232-ml/inat-neural-nets/inat_subset\"\n",
    "os.mkdir(base_dir)"
   ]
  },
  {
   "cell_type": "code",
   "execution_count": 11,
   "id": "a5bcff0a-7702-48b2-83fc-aadbf9cce86e",
   "metadata": {},
   "outputs": [],
   "source": [
    "train_dir = os.path.join(base_dir, 'train')\n",
    "validation_dir = os.path.join(base_dir, 'validation')\n",
    "test_dir = os.path.join(base_dir, 'test')\n",
    "train_hyalophora_dir = os.path.join(train_dir, 'hyalophora')\n",
    "train_pinus_dir = os.path.join(train_dir, 'pinus')\n",
    "validation_hyalophora_dir = os.path.join(validation_dir, 'hyalophora')\n",
    "validation_pinus_dir = os.path.join(validation_dir, 'pinus')\n",
    "test_hyalophora_dir = os.path.join(test_dir, 'hyalophora')\n",
    "test_pinus_dir = os.path.join(test_dir, 'pinus')"
   ]
  },
  {
   "cell_type": "code",
   "execution_count": 14,
   "id": "84c15287-b818-465b-b9cc-77bd51f5ea69",
   "metadata": {},
   "outputs": [],
   "source": [
    "# Creating directories\n",
    "\n",
    "# os.mkdir(train_dir)\n",
    "# os.mkdir(validation_dir)\n",
    "# os.mkdir(test_dir)\n",
    "# os.mkdir(train_hyalophora_dir)\n",
    "# os.mkdir(train_pinus_dir)\n",
    "# os.mkdir(validation_hyalophora_dir)\n",
    "# os.mkdir(validation_pinus_dir)\n",
    "# os.mkdir(test_hyalophora_dir)\n",
    "# os.mkdir(test_pinus_dir)"
   ]
  },
  {
   "cell_type": "code",
   "execution_count": 34,
   "id": "84078492-8056-4c89-8590-9a23d8d59f59",
   "metadata": {},
   "outputs": [],
   "source": [
    "# Copying subset of images from source dir to new structured dirs\n",
    "\n",
    "\n",
    "# hyalo_path = os.path.join(original_dataset_dir, dirs_spp[i2[0]])\n",
    "\n",
    "# fnames = os.listdir(hyalo_path)[0:30]\n",
    "# for fname in fnames:\n",
    "#     src = os.path.join(original_dataset_dir, hyalo_path, fname)\n",
    "#     dst = os.path.join(train_hyalophora_dir, fname)\n",
    "#     shutil.copyfile(src, dst)\n",
    "    \n",
    "# fnames = os.listdir(hyalo_path)[30:40]\n",
    "# for fname in fnames:\n",
    "#     src = os.path.join(original_dataset_dir, hyalo_path, fname)\n",
    "#     dst = os.path.join(validation_hyalophora_dir, fname)\n",
    "#     shutil.copyfile(src, dst)\n",
    "    \n",
    "# fnames = os.listdir(hyalo_path)[40:50]\n",
    "# for fname in fnames:\n",
    "#     src = os.path.join(original_dataset_dir, hyalo_path, fname)\n",
    "#     dst = os.path.join(test_hyalophora_dir, fname)\n",
    "#     shutil.copyfile(src, dst)\n",
    "\n",
    "# pinus_path = os.path.join(original_dataset_dir, dirs_spp[i2[1]])\n",
    "\n",
    "# fnames = os.listdir(pinus_path)[0:30]\n",
    "# for fname in fnames:\n",
    "#     src = os.path.join(original_dataset_dir, pinus_path, fname)\n",
    "#     dst = os.path.join(train_pinus_dir, fname)\n",
    "#     shutil.copyfile(src, dst)\n",
    "    \n",
    "# fnames = os.listdir(pinus_path)[30:40]\n",
    "# for fname in fnames:\n",
    "#     src = os.path.join(original_dataset_dir, pinus_path, fname)\n",
    "#     dst = os.path.join(validation_pinus_dir, fname)\n",
    "#     shutil.copyfile(src, dst)\n",
    "    \n",
    "# fnames = os.listdir(pinus_path)[40:50]\n",
    "# for fname in fnames:\n",
    "#     src = os.path.join(original_dataset_dir, pinus_path, fname)\n",
    "#     dst = os.path.join(test_pinus_dir, fname)\n",
    "#     shutil.copyfile(src, dst)"
   ]
  },
  {
   "cell_type": "code",
   "execution_count": null,
   "id": "0968bc9c-ac9e-4a69-bd18-454d60aa7686",
   "metadata": {},
   "outputs": [],
   "source": []
  }
 ],
 "metadata": {
  "kernelspec": {
   "display_name": "Python 3.7.7",
   "language": "python",
   "name": "py3.7.7"
  },
  "language_info": {
   "codemirror_mode": {
    "name": "ipython",
    "version": 3
   },
   "file_extension": ".py",
   "mimetype": "text/x-python",
   "name": "python",
   "nbconvert_exporter": "python",
   "pygments_lexer": "ipython3",
   "version": "3.7.7"
  }
 },
 "nbformat": 4,
 "nbformat_minor": 5
}
