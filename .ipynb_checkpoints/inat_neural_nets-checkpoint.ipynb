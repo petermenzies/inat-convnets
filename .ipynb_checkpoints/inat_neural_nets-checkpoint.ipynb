{
 "cells": [
  {
   "cell_type": "markdown",
   "id": "26d879bc-9d2a-493f-bad8-743c76ab32b9",
   "metadata": {},
   "source": [
    "# Classifying species in iNaturalist images using standard and convolutional neural networks\n",
    "\n",
    "### Peter Menzies\n",
    "### 3/1/22"
   ]
  },
  {
   "cell_type": "code",
   "execution_count": 70,
   "id": "a2d6d501-e9a1-450a-81c1-e11a5d48a9b0",
   "metadata": {
    "tags": []
   },
   "outputs": [
    {
     "data": {
      "text/plain": [
       "'2.6.0'"
      ]
     },
     "execution_count": 70,
     "metadata": {},
     "output_type": "execute_result"
    }
   ],
   "source": [
    "import keras\n",
    "import tensorflow as tf\n",
    "import random\n",
    "import shutil\n",
    "import os\n",
    "import re\n",
    "keras.__version__"
   ]
  },
  {
   "cell_type": "markdown",
   "id": "1dd422ce-1ae9-4792-93bf-1070a05029c3",
   "metadata": {
    "tags": []
   },
   "source": [
    "## Selecting species subset"
   ]
  },
  {
   "cell_type": "code",
   "execution_count": 71,
   "id": "6d4714e5-11fc-4254-9d54-e05488faa9ea",
   "metadata": {},
   "outputs": [],
   "source": [
    "dir_train_mini = \"/courses/EDS232/inaturalist-2021/train_mini\""
   ]
  },
  {
   "cell_type": "code",
   "execution_count": 72,
   "id": "ff8c9f8c-1574-4607-96c7-d7da171a01ce",
   "metadata": {},
   "outputs": [
    {
     "data": {
      "text/plain": [
       "10000"
      ]
     },
     "execution_count": 72,
     "metadata": {},
     "output_type": "execute_result"
    }
   ],
   "source": [
    "dirs_spp = os.listdir(dir_train_mini)\n",
    "n_spp = len(dirs_spp)\n",
    "n_spp"
   ]
  },
  {
   "cell_type": "code",
   "execution_count": 73,
   "id": "f1fd397f-52c6-4527-a49c-61926bcb8123",
   "metadata": {},
   "outputs": [],
   "source": [
    "seed_value = 71993"
   ]
  },
  {
   "cell_type": "code",
   "execution_count": 74,
   "id": "bd3985d7-9f1c-4b9e-9586-665edfe35419",
   "metadata": {},
   "outputs": [
    {
     "data": {
      "text/plain": [
       "[6265, 8377, 9422, 2010, 7951, 3269, 4966, 3475, 9868, 6903]"
      ]
     },
     "execution_count": 74,
     "metadata": {},
     "output_type": "execute_result"
    }
   ],
   "source": [
    "random.seed(seed_value)\n",
    "i10 = random.sample(range(1, n_spp), 10)\n",
    "i10"
   ]
  },
  {
   "cell_type": "code",
   "execution_count": 75,
   "id": "467660e6-dd74-4446-9a34-035a81dfa26a",
   "metadata": {},
   "outputs": [
    {
     "name": "stdout",
     "output_type": "stream",
     "text": [
      "02163_Animalia_Arthropoda_Insecta_Lepidoptera_Saturniidae_Hyalophora_columbia\n",
      "09827_Plantae_Tracheophyta_Pinopsida_Pinales_Pinaceae_Pinus_monophylla\n",
      "00004_Animalia_Arthropoda_Arachnida_Araneae_Agelenidae_Eratigena_duellica\n",
      "03353_Animalia_Chordata_Aves_Charadriiformes_Charadriidae_Charadrius_leschenaultii\n",
      "00283_Animalia_Arthropoda_Insecta_Coleoptera_Chrysomelidae_Disonycha_glabrata\n",
      "09526_Plantae_Tracheophyta_Magnoliopsida_Santalales_Santalaceae_Phoradendron_leucarpum\n",
      "06969_Plantae_Tracheophyta_Magnoliopsida_Asterales_Asteraceae_Senecio_ampullaceus\n",
      "04410_Animalia_Chordata_Aves_Pelecaniformes_Threskiornithidae_Theristicus_caudatus\n",
      "03042_Animalia_Chordata_Amphibia_Anura_Ranidae_Rana_cascadae\n",
      "04087_Animalia_Chordata_Aves_Passeriformes_Parulidae_Setophaga_townsendi\n"
     ]
    }
   ],
   "source": [
    "for i in range(0, len(i10)):\n",
    "    print(os.path.basename(dirs_spp[i10[i]]))"
   ]
  },
  {
   "cell_type": "code",
   "execution_count": 76,
   "id": "e404269a-ea60-48e0-ba81-a9ea5d13765c",
   "metadata": {},
   "outputs": [],
   "source": [
    "i2 = i10[0:2]"
   ]
  },
  {
   "cell_type": "code",
   "execution_count": 77,
   "id": "dc78f2ce-9de8-4722-b0ce-368cb9cf066c",
   "metadata": {},
   "outputs": [
    {
     "name": "stdout",
     "output_type": "stream",
     "text": [
      "02163_Animalia_Arthropoda_Insecta_Lepidoptera_Saturniidae_Hyalophora_columbia\n",
      "09827_Plantae_Tracheophyta_Pinopsida_Pinales_Pinaceae_Pinus_monophylla\n"
     ]
    }
   ],
   "source": [
    "for i in range(0, len(i2)):\n",
    "    print(os.path.basename(dirs_spp[i2[i]]))"
   ]
  },
  {
   "cell_type": "markdown",
   "id": "380253fe-4bf2-4fee-9b22-d60569dd4bf2",
   "metadata": {
    "tags": []
   },
   "source": [
    "## Building file structure"
   ]
  },
  {
   "cell_type": "code",
   "execution_count": 78,
   "id": "9d2ab4be-6795-4f04-9f87-9b10b990c000",
   "metadata": {},
   "outputs": [],
   "source": [
    "original_dataset_dir = dir_train_mini\n",
    "\n",
    "# The directory where we stored our smaller dataset\n",
    "base_dir = \"/Users/petermenzies/eds232-ml/inat-neural-nets/inat_subset\"\n",
    "\n",
    "if not os.path.exists(base_dir):\n",
    "    os.mkdir(base_dir)"
   ]
  },
  {
   "cell_type": "code",
   "execution_count": 79,
   "id": "80b02a36-633a-4980-a95d-380e9c60389c",
   "metadata": {},
   "outputs": [],
   "source": [
    "spp_names = []\n",
    "\n",
    "# parsing out genus and species for directory names\n",
    "for i in range(0, len(i10)):\n",
    "    full_name = os.path.basename(dirs_spp[i10[i]]).lower()\n",
    "    name_split = full_name.split('_')\n",
    "    name = name_split[-2] + '_' + name_split[-1]\n",
    "    spp_names.append(name)"
   ]
  },
  {
   "cell_type": "code",
   "execution_count": 80,
   "id": "a5bcff0a-7702-48b2-83fc-aadbf9cce86e",
   "metadata": {},
   "outputs": [],
   "source": [
    "# iteratively creating directory paths based on the species names parsed in the last cell\n",
    "train_dir = os.path.join(base_dir, 'train')\n",
    "validation_dir = os.path.join(base_dir, 'validation')\n",
    "test_dir = os.path.join(base_dir, 'test')\n",
    "\n",
    "train_dir_names = []\n",
    "test_dir_names = []\n",
    "validation_dir_names = []\n",
    "\n",
    "for i in range(0, len(i10)):\n",
    "    locals()['train_' + spp_names[i] + '_dir'] = os.path.join(train_dir, spp_names[i])\n",
    "    locals()['validation_' + spp_names[i] + '_dir'] = os.path.join(validation_dir, spp_names[i])\n",
    "    locals()['test_' + spp_names[i] + '_dir'] = os.path.join(test_dir, spp_names[i])\n",
    "    \n",
    "    train_dir_names.extend(['train_' + spp_names[i] + '_dir'])\n",
    "    validation_dir_names.extend(['validation_' + spp_names[i] + '_dir'])\n",
    "    test_dir_names.extend(['test_' + spp_names[i] + '_dir'])"
   ]
  },
  {
   "cell_type": "code",
   "execution_count": 81,
   "id": "84c15287-b818-465b-b9cc-77bd51f5ea69",
   "metadata": {},
   "outputs": [],
   "source": [
    "# Creating directories if they don't already exist\n",
    "\n",
    "if not os.path.exists('inat_subset/train'):\n",
    "\n",
    "    os.mkdir(train_dir)\n",
    "    os.mkdir(validation_dir)\n",
    "    os.mkdir(test_dir)\n",
    "\n",
    "    for i in train_dir_names:\n",
    "        os.mkdir(locals()[i])\n",
    "\n",
    "    for i in validation_dir_names:\n",
    "        os.mkdir(locals()[i])\n",
    "\n",
    "    for i in test_dir_names:\n",
    "        os.mkdir(locals()[i])"
   ]
  },
  {
   "cell_type": "markdown",
   "id": "05ecd942-e792-45cc-9cab-4aa33f79396f",
   "metadata": {
    "tags": []
   },
   "source": [
    "## Copying over image files into new structure"
   ]
  },
  {
   "cell_type": "code",
   "execution_count": 82,
   "id": "84078492-8056-4c89-8590-9a23d8d59f59",
   "metadata": {},
   "outputs": [],
   "source": [
    "# Copying subset of images from source directory to new directory structure\n",
    "\n",
    "if len(os.listdir('inat_subset/train/charadrius_leschenaultii')) == 0:\n",
    "    \n",
    "    # Copying training images\n",
    "    for i in range(0, len(i10)):\n",
    "        path = os.path.join(original_dataset_dir, dirs_spp[i10[i]])\n",
    "        fnames = os.listdir(path)[0:30]\n",
    "\n",
    "        for fname in fnames:\n",
    "            src = os.path.join(original_dataset_dir, path, fname)\n",
    "            dst = os.path.join(locals()[train_dir_names[i]], fname)\n",
    "            shutil.copyfile(src, dst)\n",
    "\n",
    "    # Copying validation images\n",
    "    for i in range(0, len(i10)):\n",
    "        path = os.path.join(original_dataset_dir, dirs_spp[i10[i]])\n",
    "        fnames = os.listdir(path)[30:40]\n",
    "\n",
    "        for fname in fnames:\n",
    "            src = os.path.join(original_dataset_dir, path, fname)\n",
    "            dst = os.path.join(locals()[validation_dir_names[i]], fname)\n",
    "            shutil.copyfile(src, dst)\n",
    "\n",
    "    # Copying test images\n",
    "    for i in range(0, len(i10)):\n",
    "        path = os.path.join(original_dataset_dir, dirs_spp[i10[i]])\n",
    "        fnames = os.listdir(path)[40:50]\n",
    "\n",
    "        for fname in fnames:\n",
    "            src = os.path.join(original_dataset_dir, path, fname)\n",
    "            dst = os.path.join(locals()[test_dir_names[i]], fname)\n",
    "            shutil.copyfile(src, dst)"
   ]
  },
  {
   "cell_type": "markdown",
   "id": "348a5907-1c90-4d8f-84af-41bda46c6b5e",
   "metadata": {
    "tags": []
   },
   "source": [
    "# Binary classification"
   ]
  },
  {
   "cell_type": "markdown",
   "id": "ab38a5d7-8921-4ffd-94ab-b26ce430a1b1",
   "metadata": {
    "tags": []
   },
   "source": [
    "## Artificial neural net for binary species classification"
   ]
  },
  {
   "cell_type": "markdown",
   "id": "389cf69a-dc61-49f9-b168-6499f7475b93",
   "metadata": {},
   "source": [
    "#### Data pre-processing"
   ]
  },
  {
   "cell_type": "markdown",
   "id": "d7865a99-32df-4d85-a67c-d230a44f0ff6",
   "metadata": {},
   "source": [
    "Here we use image data generators in order to conveniently produce neural net-ready samples and labels of training, validation, and test images based on the file structure we created previously."
   ]
  },
  {
   "cell_type": "code",
   "execution_count": 83,
   "id": "0968bc9c-ac9e-4a69-bd18-454d60aa7686",
   "metadata": {},
   "outputs": [
    {
     "name": "stdout",
     "output_type": "stream",
     "text": [
      "Found 60 images belonging to 2 classes.\n",
      "Found 20 images belonging to 2 classes.\n",
      "Found 20 images belonging to 2 classes.\n"
     ]
    }
   ],
   "source": [
    "from keras import models\n",
    "from keras import layers\n",
    "from keras.preprocessing.image import ImageDataGenerator\n",
    "from numpy.random import seed\n",
    "\n",
    "train_dir = 'inat_subset/binary/train'\n",
    "validation_dir = 'inat_subset/binary/validation'\n",
    "test_dir = 'inat_subset/binary/test'\n",
    "\n",
    "batch_size = 10\n",
    "epoch_steps = int(60/batch_size)\n",
    "val_steps = int(20/batch_size)\n",
    "\n",
    "# All images will be rescaled by 1./255\n",
    "train_datagen = ImageDataGenerator(rescale=1./255)\n",
    "validation_datagen = ImageDataGenerator(rescale=1./255)\n",
    "test_datagen = ImageDataGenerator(rescale=1./255)\n",
    "\n",
    "train_generator = train_datagen.flow_from_directory(\n",
    "        # This is the target directory\n",
    "        train_dir,\n",
    "        # All images will be resized to 150x150\n",
    "        target_size=(150, 150),\n",
    "        batch_size=batch_size,\n",
    "        # Since we use binary_crossentropy loss, we need binary labels\n",
    "        class_mode='binary')\n",
    "\n",
    "validation_generator = validation_datagen.flow_from_directory(\n",
    "        validation_dir,\n",
    "        target_size=(150, 150),\n",
    "        batch_size=batch_size,\n",
    "        class_mode='binary')\n",
    "\n",
    "test_generator = test_datagen.flow_from_directory(\n",
    "        test_dir,\n",
    "        target_size=(150, 150),\n",
    "        batch_size=20,\n",
    "        class_mode='binary')"
   ]
  },
  {
   "cell_type": "markdown",
   "id": "3cc814b1-8d7e-4c51-8862-1d41eb73fe55",
   "metadata": {},
   "source": [
    "#### Checking batch shapes"
   ]
  },
  {
   "cell_type": "code",
   "execution_count": 84,
   "id": "6d2c2f35-352c-4b2a-bc99-ac1b0cbd6b78",
   "metadata": {},
   "outputs": [
    {
     "name": "stdout",
     "output_type": "stream",
     "text": [
      "data batch shape: (10, 150, 150, 3)\n",
      "labels batch shape: (10,)\n"
     ]
    }
   ],
   "source": [
    "for data_batch, labels_batch in train_generator:\n",
    "    print('data batch shape:', data_batch.shape)\n",
    "    print('labels batch shape:', labels_batch.shape)\n",
    "    break"
   ]
  },
  {
   "cell_type": "markdown",
   "id": "bd1e3d20-b234-46b5-a978-7321d104a0c8",
   "metadata": {},
   "source": [
    "#### Building network"
   ]
  },
  {
   "cell_type": "code",
   "execution_count": 85,
   "id": "de65e818-c510-4bcd-9fb1-927a8e5145f7",
   "metadata": {},
   "outputs": [],
   "source": [
    "model = models.Sequential()\n",
    "model.add(layers.Dense(64, activation='relu', input_shape=(150, 150, 3)))\n",
    "model.add(layers.Flatten())\n",
    "model.add(layers.Dense(1, activation='sigmoid'))\n",
    "\n",
    "model.compile(optimizer='rmsprop',\n",
    "              loss='binary_crossentropy',\n",
    "              metrics=['accuracy'])"
   ]
  },
  {
   "cell_type": "markdown",
   "id": "56bc8c66-9336-4590-910a-5239cbc8ecfb",
   "metadata": {},
   "source": [
    "#### Training model"
   ]
  },
  {
   "cell_type": "code",
   "execution_count": 86,
   "id": "6ae39b4d-20ce-452f-9e1c-f7c7208ca225",
   "metadata": {
    "tags": []
   },
   "outputs": [
    {
     "name": "stdout",
     "output_type": "stream",
     "text": [
      "Epoch 1/10\n",
      "6/6 [==============================] - 1s 122ms/step - loss: 36.6354 - accuracy: 0.5333 - val_loss: 20.8796 - val_accuracy: 0.5000\n",
      "Epoch 2/10\n",
      "6/6 [==============================] - 1s 91ms/step - loss: 10.9722 - accuracy: 0.6667 - val_loss: 8.4563 - val_accuracy: 0.5500\n",
      "Epoch 3/10\n",
      "6/6 [==============================] - 1s 92ms/step - loss: 8.9690 - accuracy: 0.7000 - val_loss: 3.8016 - val_accuracy: 0.6000\n",
      "Epoch 4/10\n",
      "6/6 [==============================] - 1s 90ms/step - loss: 3.4106 - accuracy: 0.8000 - val_loss: 14.4353 - val_accuracy: 0.5500\n",
      "Epoch 5/10\n",
      "6/6 [==============================] - 1s 89ms/step - loss: 12.5365 - accuracy: 0.5833 - val_loss: 6.9062 - val_accuracy: 0.6000\n",
      "Epoch 6/10\n",
      "6/6 [==============================] - 1s 88ms/step - loss: 4.6372 - accuracy: 0.6500 - val_loss: 5.4930 - val_accuracy: 0.7000\n",
      "Epoch 7/10\n",
      "6/6 [==============================] - 1s 82ms/step - loss: 2.3065 - accuracy: 0.8000 - val_loss: 2.7442 - val_accuracy: 0.5500\n",
      "Epoch 8/10\n",
      "6/6 [==============================] - 1s 83ms/step - loss: 0.0874 - accuracy: 0.9833 - val_loss: 7.4606 - val_accuracy: 0.5500\n",
      "Epoch 9/10\n",
      "6/6 [==============================] - 1s 87ms/step - loss: 13.4923 - accuracy: 0.4333 - val_loss: 3.0569 - val_accuracy: 0.6000\n",
      "Epoch 10/10\n",
      "6/6 [==============================] - 1s 89ms/step - loss: 0.0034 - accuracy: 1.0000 - val_loss: 3.1489 - val_accuracy: 0.6000\n"
     ]
    }
   ],
   "source": [
    "historyBinaryANN = model.fit(\n",
    "      train_generator,\n",
    "      steps_per_epoch=epoch_steps,\n",
    "      epochs=10,\n",
    "      validation_data=validation_generator,\n",
    "      validation_steps=val_steps)"
   ]
  },
  {
   "cell_type": "code",
   "execution_count": 87,
   "id": "57a6842a-5a37-4f88-9def-a6bad70d10f4",
   "metadata": {},
   "outputs": [
    {
     "data": {
      "image/png": "[encoded data removed]",
      "text/plain": [
       "<Figure size 432x288 with 1 Axes>"
      ]
     },
     "metadata": {
      "needs_background": "light"
     },
     "output_type": "display_data"
    }
   ],
   "source": [
    "import matplotlib.pyplot as plt\n",
    "\n",
    "loss = historyBinaryANN.history['loss']\n",
    "val_loss = historyBinaryANN.history['val_loss']\n",
    "acc = historyBinaryANN.history['accuracy']\n",
    "val_acc = historyBinaryANN.history['val_accuracy']\n",
    "\n",
    "epochs = range(1, len(acc) + 1)\n",
    "\n",
    "# \"bo\" is for \"blue dot\"\n",
    "plt.plot(epochs, loss, 'bo', label='Training loss')\n",
    "# b is for \"solid blue line\"\n",
    "plt.plot(epochs, val_loss, 'b', label='Validation loss')\n",
    "plt.title('Training and validation loss')\n",
    "plt.xlabel('Epochs')\n",
    "plt.ylabel('Loss')\n",
    "plt.legend()\n",
    "\n",
    "plt.show()"
   ]
  },
  {
   "cell_type": "code",
   "execution_count": 88,
   "id": "f898cef4-c6ee-4c00-81cb-e31fc7d9a9c8",
   "metadata": {},
   "outputs": [
    {
     "data": {
      "text/plain": [
       "<matplotlib.legend.Legend at 0x7fda604fa510>"
      ]
     },
     "execution_count": 88,
     "metadata": {},
     "output_type": "execute_result"
    },
    {
     "data": {
      "image/png": "[encoded data removed]",
      "text/plain": [
       "<Figure size 432x288 with 1 Axes>"
      ]
     },
     "metadata": {
      "needs_background": "light"
     },
     "output_type": "display_data"
    }
   ],
   "source": [
    "plt.plot(epochs, acc, 'bo', label='Training acc')\n",
    "plt.plot(epochs, val_acc, 'b', label='Validation acc')\n",
    "plt.title('Training and validation accuracy')\n",
    "plt.xlabel('Epochs')\n",
    "plt.ylabel('Accuracy')\n",
    "plt.legend()"
   ]
  },
  {
   "cell_type": "markdown",
   "id": "64f4b6cd-72e1-436f-815d-aecac2eed298",
   "metadata": {
    "tags": []
   },
   "source": [
    "#### Evaluating model with test set"
   ]
  },
  {
   "cell_type": "code",
   "execution_count": 89,
   "id": "360f3d21-5538-4053-aed2-ec301ee2f69c",
   "metadata": {},
   "outputs": [
    {
     "name": "stdout",
     "output_type": "stream",
     "text": [
      "1/1 [==============================] - 0s 132ms/step - loss: 1.4768 - accuracy: 0.9000\n",
      "Test accuracy: 0.8999999761581421\n"
     ]
    }
   ],
   "source": [
    "test_results = model.evaluate(test_generator)\n",
    "test_acc_bin_ann = test_results[1]\n",
    "print(f\"Test accuracy: {test_acc_bin_ann}\")"
   ]
  },
  {
   "cell_type": "markdown",
   "id": "19d28487-95a7-4321-bcee-add74a5d266f",
   "metadata": {
    "tags": []
   },
   "source": [
    "## Convolutional neural net for binary species classification"
   ]
  },
  {
   "cell_type": "code",
   "execution_count": 90,
   "id": "f93fb907-2c26-4d7f-ba3f-1aa937752145",
   "metadata": {},
   "outputs": [],
   "source": [
    "model = models.Sequential()\n",
    "model.add(layers.Conv2D(32, (3, 3), activation='relu',\n",
    "                        input_shape=(150, 150, 3)))\n",
    "model.add(layers.MaxPooling2D((2, 2)))\n",
    "model.add(layers.Conv2D(64, (3, 3), activation='relu'))\n",
    "model.add(layers.MaxPooling2D((2, 2)))\n",
    "model.add(layers.Conv2D(128, (3, 3), activation='relu'))\n",
    "model.add(layers.MaxPooling2D((2, 2)))\n",
    "model.add(layers.Conv2D(128, (3, 3), activation='relu'))\n",
    "model.add(layers.MaxPooling2D((2, 2)))\n",
    "model.add(layers.Flatten())\n",
    "model.add(layers.Dropout(0.5))\n",
    "model.add(layers.Dense(512, activation='relu'))\n",
    "model.add(layers.Dense(1, activation='sigmoid'))\n",
    "\n",
    "model.compile(loss='binary_crossentropy',\n",
    "              optimizer=tf.keras.optimizers.RMSprop(learning_rate=1e-4),\n",
    "              metrics=['acc'])"
   ]
  },
  {
   "cell_type": "code",
   "execution_count": 91,
   "id": "0cdd4456-43db-40ef-9829-8e6fcbb34384",
   "metadata": {
    "tags": []
   },
   "outputs": [
    {
     "name": "stdout",
     "output_type": "stream",
     "text": [
      "Epoch 1/15\n",
      "6/6 [==============================] - 1s 140ms/step - loss: 0.6949 - acc: 0.5500 - val_loss: 0.7325 - val_acc: 0.5000\n",
      "Epoch 2/15\n",
      "6/6 [==============================] - 1s 103ms/step - loss: 0.7193 - acc: 0.5000 - val_loss: 0.6912 - val_acc: 0.5000\n",
      "Epoch 3/15\n",
      "6/6 [==============================] - 1s 107ms/step - loss: 0.6760 - acc: 0.6000 - val_loss: 0.7023 - val_acc: 0.5000\n",
      "Epoch 4/15\n",
      "6/6 [==============================] - 1s 102ms/step - loss: 0.6725 - acc: 0.5500 - val_loss: 0.6830 - val_acc: 0.5000\n",
      "Epoch 5/15\n",
      "6/6 [==============================] - 1s 105ms/step - loss: 0.6859 - acc: 0.5333 - val_loss: 0.6633 - val_acc: 0.7000\n",
      "Epoch 6/15\n",
      "6/6 [==============================] - 1s 86ms/step - loss: 0.6455 - acc: 0.6833 - val_loss: 0.6650 - val_acc: 0.5000\n",
      "Epoch 7/15\n",
      "6/6 [==============================] - 1s 85ms/step - loss: 0.6538 - acc: 0.5667 - val_loss: 0.6318 - val_acc: 0.7500\n",
      "Epoch 8/15\n",
      "6/6 [==============================] - 1s 102ms/step - loss: 0.6113 - acc: 0.6833 - val_loss: 0.6166 - val_acc: 0.7000\n",
      "Epoch 9/15\n",
      "6/6 [==============================] - 1s 96ms/step - loss: 0.5707 - acc: 0.7167 - val_loss: 0.5695 - val_acc: 0.7500\n",
      "Epoch 10/15\n",
      "6/6 [==============================] - 1s 84ms/step - loss: 0.5030 - acc: 0.8500 - val_loss: 0.5411 - val_acc: 0.8000\n",
      "Epoch 11/15\n",
      "6/6 [==============================] - 0s 78ms/step - loss: 0.5016 - acc: 0.7167 - val_loss: 0.4934 - val_acc: 0.7500\n",
      "Epoch 12/15\n",
      "6/6 [==============================] - 0s 77ms/step - loss: 0.5537 - acc: 0.6667 - val_loss: 0.5294 - val_acc: 0.8000\n",
      "Epoch 13/15\n",
      "6/6 [==============================] - 1s 105ms/step - loss: 0.4534 - acc: 0.8500 - val_loss: 0.4584 - val_acc: 0.8500\n",
      "Epoch 14/15\n",
      "6/6 [==============================] - 1s 82ms/step - loss: 0.3887 - acc: 0.8667 - val_loss: 0.4292 - val_acc: 0.8000\n",
      "Epoch 15/15\n",
      "6/6 [==============================] - 1s 80ms/step - loss: 0.3726 - acc: 0.8500 - val_loss: 0.4210 - val_acc: 0.8500\n"
     ]
    }
   ],
   "source": [
    "historyBinaryCNN = model.fit(\n",
    "      train_generator,\n",
    "      steps_per_epoch=epoch_steps,\n",
    "      epochs=15,\n",
    "      validation_data=validation_generator,\n",
    "      validation_steps=val_steps)"
   ]
  },
  {
   "cell_type": "code",
   "execution_count": 92,
   "id": "ebc8a2d1-87a9-4ac8-be90-918a9ca2cad8",
   "metadata": {},
   "outputs": [
    {
     "data": {
      "image/png": "[encoded data removed]",
      "text/plain": [
       "<Figure size 432x288 with 1 Axes>"
      ]
     },
     "metadata": {
      "needs_background": "light"
     },
     "output_type": "display_data"
    }
   ],
   "source": [
    "loss = historyBinaryCNN.history['loss']\n",
    "val_loss = historyBinaryCNN.history['val_loss']\n",
    "acc = historyBinaryCNN.history['acc']\n",
    "val_acc = historyBinaryCNN.history['val_acc']\n",
    "\n",
    "epochs = range(1, len(acc) + 1)\n",
    "\n",
    "# \"bo\" is for \"blue dot\"\n",
    "plt.plot(epochs, loss, 'bo', label='Training loss')\n",
    "# b is for \"solid blue line\"\n",
    "plt.plot(epochs, val_loss, 'b', label='Validation loss')\n",
    "plt.title('Training and validation loss')\n",
    "plt.xlabel('Epochs')\n",
    "plt.ylabel('Loss')\n",
    "plt.legend()\n",
    "\n",
    "plt.show()"
   ]
  },
  {
   "cell_type": "code",
   "execution_count": 93,
   "id": "939f8085-7eb1-4629-9b05-f18ff6eebe66",
   "metadata": {},
   "outputs": [
    {
     "data": {
      "text/plain": [
       "<matplotlib.legend.Legend at 0x7fda604812d0>"
      ]
     },
     "execution_count": 93,
     "metadata": {},
     "output_type": "execute_result"
    },
    {
     "data": {
      "image/png": "[encoded data removed]",
      "text/plain": [
       "<Figure size 432x288 with 1 Axes>"
      ]
     },
     "metadata": {
      "needs_background": "light"
     },
     "output_type": "display_data"
    }
   ],
   "source": [
    "plt.plot(epochs, acc, 'bo', label='Training acc')\n",
    "plt.plot(epochs, val_acc, 'b', label='Validation acc')\n",
    "plt.title('Training and validation accuracy')\n",
    "plt.xlabel('Epochs')\n",
    "plt.ylabel('Accuracy')\n",
    "plt.legend()"
   ]
  },
  {
   "cell_type": "markdown",
   "id": "851d4ef2-5907-477c-9295-42a3f4a13b20",
   "metadata": {
    "tags": []
   },
   "source": [
    "#### Evaluating model with test set"
   ]
  },
  {
   "cell_type": "code",
   "execution_count": 94,
   "id": "6d881f23-e6d5-45db-ae57-dcc9afa87794",
   "metadata": {},
   "outputs": [
    {
     "name": "stdout",
     "output_type": "stream",
     "text": [
      "1/1 [==============================] - 0s 114ms/step - loss: 0.4446 - acc: 0.8500\n",
      "Test accuracy: 0.8500000238418579\n"
     ]
    }
   ],
   "source": [
    "test_results = model.evaluate(test_generator)\n",
    "test_acc_bin_cnn = test_results[1]\n",
    "print(f\"Test accuracy: {test_acc_bin_cnn}\")"
   ]
  },
  {
   "cell_type": "markdown",
   "id": "1f19a5f5-0675-4526-b490-6ef37bc8dfb6",
   "metadata": {},
   "source": [
    "## Comparing network types"
   ]
  },
  {
   "cell_type": "markdown",
   "id": "cd0f11e2-b3f9-435c-814f-14d75805fe22",
   "metadata": {},
   "source": [
    "The convolutional neural net generally had higher validation accuracies and tended to outperform the standard nueral net at classifying the two species in the test set of images, but not to a large degree and not in all instances. I assume a lot is left up to chance when training and evaluating models on such a small dataset."
   ]
  },
  {
   "cell_type": "code",
   "execution_count": 95,
   "id": "ac187ffe-d253-448f-8f57-82f46d429305",
   "metadata": {},
   "outputs": [
    {
     "name": "stdout",
     "output_type": "stream",
     "text": [
      "Test accuracy for standard neural net: 0.8999999761581421\n",
      "Test accuracy for convolutional neural net: 0.8500000238418579\n"
     ]
    }
   ],
   "source": [
    "print(f\"Test accuracy for standard neural net: {test_acc_bin_ann}\")\n",
    "print(f\"Test accuracy for convolutional neural net: {test_acc_bin_cnn}\")"
   ]
  },
  {
   "cell_type": "markdown",
   "id": "84212597-aab8-4782-b01c-76600e92554d",
   "metadata": {
    "tags": []
   },
   "source": [
    "# Multiclass classification"
   ]
  },
  {
   "cell_type": "markdown",
   "id": "75d3dc8d-9d48-4524-99d3-f8d665e301be",
   "metadata": {},
   "source": [
    "## Artificial neural net for multi-species classification"
   ]
  },
  {
   "cell_type": "markdown",
   "id": "e182c512-f381-41ad-9595-0f2fd1295682",
   "metadata": {},
   "source": [
    "#### Data pre-processing"
   ]
  },
  {
   "cell_type": "code",
   "execution_count": 96,
   "id": "cbef0f73-4e58-4dce-88ec-e358aae24ead",
   "metadata": {},
   "outputs": [
    {
     "name": "stdout",
     "output_type": "stream",
     "text": [
      "Found 300 images belonging to 10 classes.\n",
      "Found 100 images belonging to 10 classes.\n",
      "Found 100 images belonging to 10 classes.\n"
     ]
    }
   ],
   "source": [
    "train_dir = 'inat_subset/train'\n",
    "validation_dir = 'inat_subset/validation'\n",
    "test_dir = 'inat_subset/test'\n",
    "\n",
    "batch_size = 25\n",
    "epoch_steps = int(300/batch_size)\n",
    "val_steps = int(100/batch_size)\n",
    "\n",
    "# All images will be rescaled by 1./255\n",
    "train_datagen = ImageDataGenerator(rescale=1./255)\n",
    "validation_datagen = ImageDataGenerator(rescale=1./255)\n",
    "test_datagen = ImageDataGenerator(rescale=1./255)\n",
    "\n",
    "train_generator = train_datagen.flow_from_directory(\n",
    "        train_dir,\n",
    "        target_size=(150, 150),\n",
    "        batch_size=batch_size,\n",
    "        class_mode='categorical')\n",
    "\n",
    "validation_generator = validation_datagen.flow_from_directory(\n",
    "        validation_dir,\n",
    "        target_size=(150, 150),\n",
    "        batch_size=batch_size,\n",
    "        class_mode='categorical')\n",
    "\n",
    "test_generator = test_datagen.flow_from_directory(\n",
    "        test_dir,\n",
    "        target_size=(150, 150),\n",
    "        batch_size=100,\n",
    "        class_mode='categorical')"
   ]
  },
  {
   "cell_type": "markdown",
   "id": "4a283f0d-94ef-409d-90b6-0bb0083ddd4c",
   "metadata": {},
   "source": [
    "#### Checking batch shapes"
   ]
  },
  {
   "cell_type": "code",
   "execution_count": 97,
   "id": "df665881-8127-4523-81c4-0e4094130ec1",
   "metadata": {},
   "outputs": [
    {
     "name": "stdout",
     "output_type": "stream",
     "text": [
      "data batch shape: (25, 150, 150, 3)\n",
      "labels batch shape: (25, 10)\n"
     ]
    }
   ],
   "source": [
    "for data_batch, labels_batch in train_generator:\n",
    "    print('data batch shape:', data_batch.shape)\n",
    "    print('labels batch shape:', labels_batch.shape)\n",
    "    break"
   ]
  },
  {
   "cell_type": "markdown",
   "id": "5a9ac99b-8ef4-44bc-b05a-72c4f976a02a",
   "metadata": {},
   "source": [
    "#### Build network"
   ]
  },
  {
   "cell_type": "code",
   "execution_count": 98,
   "id": "11f960a1-ce2b-4947-b86a-9e6f47dee74b",
   "metadata": {
    "tags": []
   },
   "outputs": [],
   "source": [
    "model = models.Sequential()\n",
    "model.add(layers.Dense(96, activation='relu', input_shape=(150, 150, 3)))\n",
    "model.add(layers.Dense(24, activation='relu'))\n",
    "model.add(layers.Flatten())\n",
    "model.add(layers.Dense(10, activation='softmax'))\n",
    "\n",
    "model.compile(optimizer='rmsprop',\n",
    "              loss='categorical_crossentropy',\n",
    "              metrics=['acc'])"
   ]
  },
  {
   "cell_type": "code",
   "execution_count": 99,
   "id": "76d60ba7-ee3c-4a80-9e65-d26a39b94edb",
   "metadata": {
    "tags": []
   },
   "outputs": [
    {
     "name": "stdout",
     "output_type": "stream",
     "text": [
      "Epoch 1/12\n",
      "12/12 [==============================] - 3s 183ms/step - loss: 36.6214 - acc: 0.1067 - val_loss: 7.4296 - val_acc: 0.1500\n",
      "Epoch 2/12\n",
      "12/12 [==============================] - 2s 167ms/step - loss: 4.0193 - acc: 0.2733 - val_loss: 2.1120 - val_acc: 0.2900\n",
      "Epoch 3/12\n",
      "12/12 [==============================] - 2s 160ms/step - loss: 1.7555 - acc: 0.4167 - val_loss: 2.4982 - val_acc: 0.2700\n",
      "Epoch 4/12\n",
      "12/12 [==============================] - 2s 158ms/step - loss: 1.5052 - acc: 0.5333 - val_loss: 1.9225 - val_acc: 0.4000\n",
      "Epoch 5/12\n",
      "12/12 [==============================] - 2s 165ms/step - loss: 1.1910 - acc: 0.7133 - val_loss: 2.0438 - val_acc: 0.3800\n",
      "Epoch 6/12\n",
      "12/12 [==============================] - 2s 170ms/step - loss: 0.7589 - acc: 0.7933 - val_loss: 2.2723 - val_acc: 0.3600\n",
      "Epoch 7/12\n",
      "12/12 [==============================] - 2s 164ms/step - loss: 0.5535 - acc: 0.8467 - val_loss: 2.7430 - val_acc: 0.2700\n",
      "Epoch 8/12\n",
      "12/12 [==============================] - 2s 162ms/step - loss: 0.3995 - acc: 0.9233 - val_loss: 2.7805 - val_acc: 0.3500\n",
      "Epoch 9/12\n",
      "12/12 [==============================] - 2s 160ms/step - loss: 0.3091 - acc: 0.9333 - val_loss: 2.7070 - val_acc: 0.3600\n",
      "Epoch 10/12\n",
      "12/12 [==============================] - 2s 165ms/step - loss: 0.1543 - acc: 0.9667 - val_loss: 3.6872 - val_acc: 0.2500\n",
      "Epoch 11/12\n",
      "12/12 [==============================] - 2s 157ms/step - loss: 0.1752 - acc: 0.9633 - val_loss: 3.1272 - val_acc: 0.3900\n",
      "Epoch 12/12\n",
      "12/12 [==============================] - 2s 162ms/step - loss: 0.0689 - acc: 0.9867 - val_loss: 3.7336 - val_acc: 0.2600\n"
     ]
    }
   ],
   "source": [
    "historyMultiANN = model.fit(\n",
    "      train_generator,\n",
    "      steps_per_epoch=epoch_steps,\n",
    "      epochs=12,\n",
    "      validation_data=validation_generator,\n",
    "      validation_steps=val_steps)"
   ]
  },
  {
   "cell_type": "code",
   "execution_count": 100,
   "id": "97af12d1-2882-45f9-b400-6eeada798c36",
   "metadata": {
    "tags": []
   },
   "outputs": [
    {
     "data": {
      "image/png": "[encoded data removed]",
      "text/plain": [
       "<Figure size 432x288 with 1 Axes>"
      ]
     },
     "metadata": {
      "needs_background": "light"
     },
     "output_type": "display_data"
    }
   ],
   "source": [
    "loss = historyMultiANN.history['loss']\n",
    "val_loss = historyMultiANN.history['val_loss']\n",
    "acc = historyMultiANN.history['acc']\n",
    "val_acc = historyMultiANN.history['val_acc']\n",
    "\n",
    "epochs = range(1, len(acc) + 1)\n",
    "\n",
    "# \"bo\" is for \"blue dot\"\n",
    "plt.plot(epochs, loss, 'bo', label='Training loss')\n",
    "# b is for \"solid blue line\"\n",
    "plt.plot(epochs, val_loss, 'b', label='Validation loss')\n",
    "plt.title('Training and validation loss')\n",
    "plt.xlabel('Epochs')\n",
    "plt.ylabel('Loss')\n",
    "plt.legend()\n",
    "\n",
    "plt.show()"
   ]
  },
  {
   "cell_type": "code",
   "execution_count": 101,
   "id": "649c6089-ef0f-44eb-92e2-01eb40792a43",
   "metadata": {},
   "outputs": [
    {
     "data": {
      "text/plain": [
       "<matplotlib.legend.Legend at 0x7fda146ac790>"
      ]
     },
     "execution_count": 101,
     "metadata": {},
     "output_type": "execute_result"
    },
    {
     "data": {
      "image/png": "[encoded data removed]",
      "text/plain": [
       "<Figure size 432x288 with 1 Axes>"
      ]
     },
     "metadata": {
      "needs_background": "light"
     },
     "output_type": "display_data"
    }
   ],
   "source": [
    "plt.plot(epochs, acc, 'bo', label='Training acc')\n",
    "plt.plot(epochs, val_acc, 'b', label='Validation acc')\n",
    "plt.title('Training and validation accuracy')\n",
    "plt.xlabel('Epochs')\n",
    "plt.ylabel('Accuracy')\n",
    "plt.legend()"
   ]
  },
  {
   "cell_type": "markdown",
   "id": "7186ef86-39bf-4c20-b0bc-06e660b89258",
   "metadata": {
    "tags": []
   },
   "source": [
    "#### Evaluating model with test set"
   ]
  },
  {
   "cell_type": "code",
   "execution_count": 102,
   "id": "54be69aa-541f-4248-a9ef-2bb7675cc132",
   "metadata": {},
   "outputs": [
    {
     "name": "stdout",
     "output_type": "stream",
     "text": [
      "1/1 [==============================] - 1s 531ms/step - loss: 3.6119 - acc: 0.3400\n",
      "Test accuracy: 0.3400000035762787\n"
     ]
    }
   ],
   "source": [
    "test_results = model.evaluate(test_generator)\n",
    "test_acc_multi_ann = test_results[1]\n",
    "print(f\"Test accuracy: {test_acc_multi_ann}\")"
   ]
  },
  {
   "cell_type": "markdown",
   "id": "b2e22c6f-e571-42ba-9ca0-ac8c20d081b0",
   "metadata": {
    "tags": []
   },
   "source": [
    "## Convolutional neural net for multi-species classification"
   ]
  },
  {
   "cell_type": "code",
   "execution_count": 103,
   "id": "09d0ec5c-1313-47c1-a690-335462629215",
   "metadata": {},
   "outputs": [],
   "source": [
    "model = models.Sequential()\n",
    "model.add(layers.Conv2D(32, (3, 3), activation='relu',\n",
    "                        input_shape=(150, 150, 3)))\n",
    "model.add(layers.MaxPooling2D((2, 2)))\n",
    "model.add(layers.Conv2D(64, (3, 3), activation='relu'))\n",
    "model.add(layers.MaxPooling2D((2, 2)))\n",
    "model.add(layers.Conv2D(128, (3, 3), activation='relu'))\n",
    "model.add(layers.MaxPooling2D((2, 2)))\n",
    "model.add(layers.Conv2D(128, (3, 3), activation='relu'))\n",
    "model.add(layers.MaxPooling2D((2, 2)))\n",
    "model.add(layers.Flatten())\n",
    "model.add(layers.Dropout(0.5))\n",
    "model.add(layers.Dense(512, activation='relu'))\n",
    "model.add(layers.Dense(10, activation='softmax'))\n",
    "\n",
    "model.compile(loss='categorical_crossentropy',\n",
    "              optimizer=tf.keras.optimizers.RMSprop(learning_rate=1e-4),\n",
    "              metrics=['acc'])"
   ]
  },
  {
   "cell_type": "code",
   "execution_count": 104,
   "id": "7cea08cb-072b-4ab0-903b-feabf7ac8f3b",
   "metadata": {
    "tags": []
   },
   "outputs": [
    {
     "name": "stdout",
     "output_type": "stream",
     "text": [
      "Epoch 1/20\n",
      "12/12 [==============================] - 3s 222ms/step - loss: 2.3128 - acc: 0.1100 - val_loss: 2.2740 - val_acc: 0.1400\n",
      "Epoch 2/20\n",
      "12/12 [==============================] - 2s 178ms/step - loss: 2.2706 - acc: 0.1467 - val_loss: 2.2320 - val_acc: 0.2500\n",
      "Epoch 3/20\n",
      "12/12 [==============================] - 2s 169ms/step - loss: 2.2037 - acc: 0.2100 - val_loss: 2.1523 - val_acc: 0.2400\n",
      "Epoch 4/20\n",
      "12/12 [==============================] - 2s 161ms/step - loss: 2.0974 - acc: 0.2767 - val_loss: 2.0772 - val_acc: 0.2800\n",
      "Epoch 5/20\n",
      "12/12 [==============================] - 2s 164ms/step - loss: 2.0442 - acc: 0.2500 - val_loss: 2.0010 - val_acc: 0.3000\n",
      "Epoch 6/20\n",
      "12/12 [==============================] - 2s 159ms/step - loss: 1.9599 - acc: 0.2733 - val_loss: 1.9657 - val_acc: 0.3000\n",
      "Epoch 7/20\n",
      "12/12 [==============================] - 2s 148ms/step - loss: 1.9065 - acc: 0.3433 - val_loss: 1.9367 - val_acc: 0.2600\n",
      "Epoch 8/20\n",
      "12/12 [==============================] - 2s 161ms/step - loss: 1.8510 - acc: 0.3533 - val_loss: 1.8867 - val_acc: 0.3200\n",
      "Epoch 9/20\n",
      "12/12 [==============================] - 2s 149ms/step - loss: 1.8104 - acc: 0.3967 - val_loss: 1.8711 - val_acc: 0.3000\n",
      "Epoch 10/20\n",
      "12/12 [==============================] - 2s 152ms/step - loss: 1.7173 - acc: 0.3967 - val_loss: 1.9292 - val_acc: 0.3600\n",
      "Epoch 11/20\n",
      "12/12 [==============================] - 2s 160ms/step - loss: 1.6749 - acc: 0.4333 - val_loss: 1.8401 - val_acc: 0.3300\n",
      "Epoch 12/20\n",
      "12/12 [==============================] - 2s 145ms/step - loss: 1.7060 - acc: 0.4100 - val_loss: 1.7876 - val_acc: 0.3900\n",
      "Epoch 13/20\n",
      "12/12 [==============================] - 2s 150ms/step - loss: 1.6132 - acc: 0.4400 - val_loss: 1.7769 - val_acc: 0.3700\n",
      "Epoch 14/20\n",
      "12/12 [==============================] - 2s 155ms/step - loss: 1.5915 - acc: 0.4833 - val_loss: 1.7767 - val_acc: 0.4000\n",
      "Epoch 15/20\n",
      "12/12 [==============================] - 2s 154ms/step - loss: 1.5266 - acc: 0.4867 - val_loss: 1.7567 - val_acc: 0.3800\n",
      "Epoch 16/20\n",
      "12/12 [==============================] - 2s 161ms/step - loss: 1.4939 - acc: 0.5033 - val_loss: 1.7836 - val_acc: 0.4100\n",
      "Epoch 17/20\n",
      "12/12 [==============================] - 2s 170ms/step - loss: 1.5011 - acc: 0.4833 - val_loss: 1.7097 - val_acc: 0.4200\n",
      "Epoch 18/20\n",
      "12/12 [==============================] - 2s 160ms/step - loss: 1.3813 - acc: 0.5467 - val_loss: 1.7509 - val_acc: 0.3600\n",
      "Epoch 19/20\n",
      "12/12 [==============================] - 2s 151ms/step - loss: 1.3932 - acc: 0.5267 - val_loss: 1.7459 - val_acc: 0.3700\n",
      "Epoch 20/20\n",
      "12/12 [==============================] - 2s 164ms/step - loss: 1.3734 - acc: 0.5533 - val_loss: 1.7239 - val_acc: 0.3800\n"
     ]
    }
   ],
   "source": [
    "historyMultiCNN = model.fit(\n",
    "      train_generator,\n",
    "      steps_per_epoch=epoch_steps,\n",
    "      epochs=20,\n",
    "      validation_data=validation_generator,\n",
    "      validation_steps=val_steps)"
   ]
  },
  {
   "cell_type": "code",
   "execution_count": 105,
   "id": "d4807979-32f6-4e12-9fe4-0ea498290420",
   "metadata": {
    "tags": []
   },
   "outputs": [
    {
     "data": {
      "image/png": "[encoded data removed]",
      "text/plain": [
       "<Figure size 432x288 with 1 Axes>"
      ]
     },
     "metadata": {
      "needs_background": "light"
     },
     "output_type": "display_data"
    }
   ],
   "source": [
    "loss = historyMultiCNN.history['loss']\n",
    "val_loss = historyMultiCNN.history['val_loss']\n",
    "acc = historyMultiCNN.history['acc']\n",
    "val_acc = historyMultiCNN.history['val_acc']\n",
    "\n",
    "epochs = range(1, len(acc) + 1)\n",
    "\n",
    "# \"bo\" is for \"blue dot\"\n",
    "plt.plot(epochs, loss, 'bo', label='Training loss')\n",
    "# b is for \"solid blue line\"\n",
    "plt.plot(epochs, val_loss, 'b', label='Validation loss')\n",
    "plt.title('Training and validation loss')\n",
    "plt.xlabel('Epochs')\n",
    "plt.ylabel('Loss')\n",
    "plt.legend()\n",
    "\n",
    "plt.show()"
   ]
  },
  {
   "cell_type": "code",
   "execution_count": 106,
   "id": "ac0e79e3-c165-438d-a9e4-c6cffb70bbc4",
   "metadata": {},
   "outputs": [
    {
     "data": {
      "text/plain": [
       "<matplotlib.legend.Legend at 0x7fda6055bed0>"
      ]
     },
     "execution_count": 106,
     "metadata": {},
     "output_type": "execute_result"
    },
    {
     "data": {
      "image/png": "[encoded data removed]",
      "text/plain": [
       "<Figure size 432x288 with 1 Axes>"
      ]
     },
     "metadata": {
      "needs_background": "light"
     },
     "output_type": "display_data"
    }
   ],
   "source": [
    "plt.plot(epochs, acc, 'bo', label='Training acc')\n",
    "plt.plot(epochs, val_acc, 'b', label='Validation acc')\n",
    "plt.title('Training and validation accuracy')\n",
    "plt.xlabel('Epochs')\n",
    "plt.ylabel('Accuracy')\n",
    "plt.legend()"
   ]
  },
  {
   "cell_type": "markdown",
   "id": "d488a52c-fc6a-4e57-80ee-46a33e80a416",
   "metadata": {
    "tags": []
   },
   "source": [
    "#### Evaluating model with test set"
   ]
  },
  {
   "cell_type": "code",
   "execution_count": 107,
   "id": "b3139666-22d0-4e2f-8a36-df21b25876fa",
   "metadata": {
    "tags": []
   },
   "outputs": [
    {
     "name": "stdout",
     "output_type": "stream",
     "text": [
      "1/1 [==============================] - 0s 432ms/step - loss: 1.8081 - acc: 0.4000\n",
      "Test accuracy: 0.4000000059604645\n"
     ]
    }
   ],
   "source": [
    "test_results = model.evaluate(test_generator)\n",
    "test_acc_multi_cnn = test_results[1]\n",
    "print(f\"Test accuracy: {test_acc_multi_cnn}\")"
   ]
  },
  {
   "cell_type": "markdown",
   "id": "d50fd8f2-9133-4d00-8660-65c5d86b5182",
   "metadata": {},
   "source": [
    "## Comparing network types"
   ]
  },
  {
   "cell_type": "markdown",
   "id": "f344a23a-20d3-40d2-8f2c-beaf4650363b",
   "metadata": {},
   "source": [
    "For multi-class classification, similar to binary classificaiton, the convolutional neural net generally achieved higher validation accuracies and tended to outperform the standard neural net at classifying the test set—however, for certain iterations this was not the case. "
   ]
  },
  {
   "cell_type": "code",
   "execution_count": 108,
   "id": "363ea0ab-a26d-4a0d-8ea9-bb6df4d82229",
   "metadata": {},
   "outputs": [
    {
     "name": "stdout",
     "output_type": "stream",
     "text": [
      "Test accuracy for standard neural net: 0.3400000035762787\n",
      "Test accuracy for convolutional neural net: 0.4000000059604645\n"
     ]
    }
   ],
   "source": [
    "print(f\"Test accuracy for standard neural net: {test_acc_multi_ann}\")\n",
    "print(f\"Test accuracy for convolutional neural net: {test_acc_multi_cnn}\")"
   ]
  }
 ],
 "metadata": {
  "kernelspec": {
   "display_name": "Python 3.7.7",
   "language": "python",
   "name": "py3.7.7"
  },
  "language_info": {
   "codemirror_mode": {
    "name": "ipython",
    "version": 3
   },
   "file_extension": ".py",
   "mimetype": "text/x-python",
   "name": "python",
   "nbconvert_exporter": "python",
   "pygments_lexer": "ipython3",
   "version": "3.7.7"
  }
 },
 "nbformat": 4,
 "nbformat_minor": 5
}
